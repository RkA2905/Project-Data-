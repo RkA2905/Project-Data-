{
 "cells": [
  {
   "cell_type": "markdown",
   "id": "d6d9dfe9",
   "metadata": {},
   "source": [
    "# \n",
    "Global Power Plant Database\n",
    "Problem Statement:\n",
    "Description\n",
    "\n",
    "The Global Power Plant Database is a comprehensive, open source database of power plants around the world. It centralizes power plant data to make it easier to navigate, compare and draw insights for one’s own analysis. The database covers approximately 35,000 power plants from 167 countries and includes thermal plants (e.g. coal, gas, oil, nuclear, biomass, waste, geothermal) and renewables (e.g. hydro, wind, solar). Each power plant is geolocated and entries contain information on plant capacity, generation, ownership, and fuel type. It will be continuously updated as data becomes available.\n",
    "\n",
    "Key attributes of the database\n",
    "The database includes the following indicators:\n",
    "\n",
    "`country` (text): 3 character country code corresponding to the ISO 3166-1 alpha-3 specification [5]\n",
    "`country_long` (text): longer form of the country designation\n",
    "`name` (text): name or title of the power plant, generally in Romanized form\n",
    "`gppd_idnr` (text): 10 or 12 character identifier for the power plant\n",
    "`capacity_mw` (number): electrical generating capacity in megawatts\n",
    "`latitude` (number): geolocation in decimal degrees; WGS84 (EPSG:4326)\n",
    "`longitude` (number): geolocation in decimal degrees; WGS84 (EPSG:4326)\n",
    "`primary_fuel` (text): energy source used in primary electricity generation or export\n",
    "`other_fuel1` (text): energy source used in electricity generation or export\n",
    "`other_fuel2` (text): energy source used in electricity generation or export\n",
    "`other_fuel3` (text): energy source used in electricity generation or export\n",
    " `commissioning_year` (number): year of plant operation, weighted by unit-capacity when data is available\n",
    "`owner` (text): majority shareholder of the power plant, generally in Romanized form\n",
    "`source` (text): entity reporting the data; could be an organization, report, or document, generally in Romanized form\n",
    "`url` (text): web document corresponding to the `source` field\n",
    "`geolocation_source` (text): attribution for geolocation information\n",
    "`wepp_id` (text): a reference to a unique plant identifier in the widely-used PLATTS-WEPP database.\n",
    "`year_of_capacity_data` (number): year the capacity information was reported\n",
    "`generation_gwh_2013` (number): electricity generation in gigawatt-hours reported for the year 2013\n",
    "`generation_gwh_2014` (number): electricity generation in gigawatt-hours reported for the year 2014\n",
    "`generation_gwh_2015` (number): electricity generation in gigawatt-hours reported for the year 2015\n",
    "`generation_gwh_2016` (number): electricity generation in gigawatt-hours reported for the year 2016\n",
    "`generation_gwh_2017` (number): electricity generation in gigawatt-hours reported for the year 2017\n",
    "`generation_gwh_2018` (number): electricity generation in gigawatt-hours reported for the year 2018\n",
    "`generation_gwh_2019` (number): electricity generation in gigawatt-hours reported for the year 2019\n",
    "`generation_data_source` (text): attribution for the reported generation information\n",
    "`estimated_generation_gwh_2013` (number): estimated electricity generation in gigawatt-hours for the year 2013\n",
    "`estimated_generation_gwh_2014` (number): estimated electricity generation in gigawatt-hours for the year 2014 \n",
    "`estimated_generation_gwh_2015` (number): estimated electricity generation in gigawatt-hours for the year 2015 \n",
    "`estimated_generation_gwh_2016` (number): estimated electricity generation in gigawatt-hours for the year 2016 \n",
    "`estimated_generation_gwh_2017` (number): estimated electricity generation in gigawatt-hours for the year 2017 \n",
    "'estimated_generation_note_2013` (text): label of the model/method used to estimate generation for the year 2013\n",
    "`estimated_generation_note_2014` (text): label of the model/method used to estimate generation for the year 2014 \n",
    "`estimated_generation_note_2015` (text): label of the model/method used to estimate generation for the year 2015\n",
    "`estimated_generation_note_2016` (text): label of the model/method used to estimate generation for the year 2016\n",
    "`estimated_generation_note_2017` (text): label of the model/method used to estimate generation for the year 2017 \n",
    "Fuel Type Aggregation\n",
    "We define the \"Fuel Type\" attribute of our database based on common fuel categories. \n",
    "\n",
    "Prediction :   Make two prediction  1) Primary Fuel    2) capacity_mw "
   ]
  },
  {
   "cell_type": "code",
   "execution_count": 3,
   "id": "f0390781",
   "metadata": {},
   "outputs": [],
   "source": [
    "import pandas as pd \n",
    "import numpy as np\n",
    "import matplotlib.pyplot as plt\n",
    "import seaborn as sns\n",
    "from sklearn.preprocessing import LabelEncoder\n",
    "import sklearn\n",
    "import seaborn as sns\n",
    "from sklearn.linear_model import LinearRegression\n",
    "from sklearn.linear_model import LogisticRegression\n",
    "from sklearn.metrics import mean_squared_error\n",
    "from sklearn.model_selection import train_test_split\n",
    "from sklearn.naive_bayes import MultinomialNB\n",
    "from sklearn.svm import SVC\n",
    "from sklearn.tree import DecisionTreeClassifier\n",
    "from sklearn.neighbors import KNeighborsClassifier\n",
    "from sklearn.metrics import accuracy_score,confusion_matrix,classification_report\n",
    "from sklearn.preprocessing import LabelEncoder\n",
    "from sklearn.ensemble import RandomForestClassifier\n",
    "from sklearn.model_selection import cross_val_score\n",
    "from sklearn.model_selection import GridSearchCV\n",
    "import warnings\n",
    "warnings.filterwarnings('ignore')\n",
    "from matplotlib import style\n",
    "from sklearn import linear_model\n",
    "from sklearn.linear_model import LogisticRegression\n",
    "from sklearn.ensemble import RandomForestClassifier\n",
    "from sklearn.linear_model import Perceptron\n",
    "from sklearn.linear_model import SGDClassifier\n",
    "from sklearn.tree import DecisionTreeClassifier\n",
    "from sklearn.neighbors import KNeighborsClassifier\n",
    "from sklearn.svm import SVC, LinearSVC\n",
    "from sklearn.naive_bayes import GaussianNB\n",
    "from sklearn.datasets import make_classification\n",
    "from sklearn.ensemble import RandomForestClassifier\n",
    "from sklearn.preprocessing import power_transform\n",
    "from scipy.stats import zscore\n",
    "from sklearn.metrics import plot_roc_curve"
   ]
  },
  {
   "cell_type": "code",
   "execution_count": 4,
   "id": "bf41339f",
   "metadata": {},
   "outputs": [],
   "source": [
    "df = pd.read_csv('https://raw.githubusercontent.com/wri/global-power-plant-database/master/source_databases_csv/database_IND.csv')"
   ]
  },
  {
   "cell_type": "code",
   "execution_count": 5,
   "id": "15842201",
   "metadata": {},
   "outputs": [
    {
     "data": {
      "text/html": [
       "<div>\n",
       "<style scoped>\n",
       "    .dataframe tbody tr th:only-of-type {\n",
       "        vertical-align: middle;\n",
       "    }\n",
       "\n",
       "    .dataframe tbody tr th {\n",
       "        vertical-align: top;\n",
       "    }\n",
       "\n",
       "    .dataframe thead th {\n",
       "        text-align: right;\n",
       "    }\n",
       "</style>\n",
       "<table border=\"1\" class=\"dataframe\">\n",
       "  <thead>\n",
       "    <tr style=\"text-align: right;\">\n",
       "      <th></th>\n",
       "      <th>country</th>\n",
       "      <th>country_long</th>\n",
       "      <th>name</th>\n",
       "      <th>gppd_idnr</th>\n",
       "      <th>capacity_mw</th>\n",
       "      <th>latitude</th>\n",
       "      <th>longitude</th>\n",
       "      <th>primary_fuel</th>\n",
       "      <th>other_fuel1</th>\n",
       "      <th>other_fuel2</th>\n",
       "      <th>...</th>\n",
       "      <th>year_of_capacity_data</th>\n",
       "      <th>generation_gwh_2013</th>\n",
       "      <th>generation_gwh_2014</th>\n",
       "      <th>generation_gwh_2015</th>\n",
       "      <th>generation_gwh_2016</th>\n",
       "      <th>generation_gwh_2017</th>\n",
       "      <th>generation_gwh_2018</th>\n",
       "      <th>generation_gwh_2019</th>\n",
       "      <th>generation_data_source</th>\n",
       "      <th>estimated_generation_gwh</th>\n",
       "    </tr>\n",
       "  </thead>\n",
       "  <tbody>\n",
       "    <tr>\n",
       "      <th>0</th>\n",
       "      <td>IND</td>\n",
       "      <td>India</td>\n",
       "      <td>ACME Solar Tower</td>\n",
       "      <td>WRI1020239</td>\n",
       "      <td>2.5</td>\n",
       "      <td>28.1839</td>\n",
       "      <td>73.2407</td>\n",
       "      <td>Solar</td>\n",
       "      <td>NaN</td>\n",
       "      <td>NaN</td>\n",
       "      <td>...</td>\n",
       "      <td>NaN</td>\n",
       "      <td>NaN</td>\n",
       "      <td>NaN</td>\n",
       "      <td>NaN</td>\n",
       "      <td>NaN</td>\n",
       "      <td>NaN</td>\n",
       "      <td>NaN</td>\n",
       "      <td>NaN</td>\n",
       "      <td>NaN</td>\n",
       "      <td>NaN</td>\n",
       "    </tr>\n",
       "    <tr>\n",
       "      <th>1</th>\n",
       "      <td>IND</td>\n",
       "      <td>India</td>\n",
       "      <td>ADITYA CEMENT WORKS</td>\n",
       "      <td>WRI1019881</td>\n",
       "      <td>98.0</td>\n",
       "      <td>24.7663</td>\n",
       "      <td>74.6090</td>\n",
       "      <td>Coal</td>\n",
       "      <td>NaN</td>\n",
       "      <td>NaN</td>\n",
       "      <td>...</td>\n",
       "      <td>NaN</td>\n",
       "      <td>NaN</td>\n",
       "      <td>NaN</td>\n",
       "      <td>NaN</td>\n",
       "      <td>NaN</td>\n",
       "      <td>NaN</td>\n",
       "      <td>NaN</td>\n",
       "      <td>NaN</td>\n",
       "      <td>NaN</td>\n",
       "      <td>NaN</td>\n",
       "    </tr>\n",
       "    <tr>\n",
       "      <th>2</th>\n",
       "      <td>IND</td>\n",
       "      <td>India</td>\n",
       "      <td>AES Saurashtra Windfarms</td>\n",
       "      <td>WRI1026669</td>\n",
       "      <td>39.2</td>\n",
       "      <td>21.9038</td>\n",
       "      <td>69.3732</td>\n",
       "      <td>Wind</td>\n",
       "      <td>NaN</td>\n",
       "      <td>NaN</td>\n",
       "      <td>...</td>\n",
       "      <td>NaN</td>\n",
       "      <td>NaN</td>\n",
       "      <td>NaN</td>\n",
       "      <td>NaN</td>\n",
       "      <td>NaN</td>\n",
       "      <td>NaN</td>\n",
       "      <td>NaN</td>\n",
       "      <td>NaN</td>\n",
       "      <td>NaN</td>\n",
       "      <td>NaN</td>\n",
       "    </tr>\n",
       "    <tr>\n",
       "      <th>3</th>\n",
       "      <td>IND</td>\n",
       "      <td>India</td>\n",
       "      <td>AGARTALA GT</td>\n",
       "      <td>IND0000001</td>\n",
       "      <td>135.0</td>\n",
       "      <td>23.8712</td>\n",
       "      <td>91.3602</td>\n",
       "      <td>Gas</td>\n",
       "      <td>NaN</td>\n",
       "      <td>NaN</td>\n",
       "      <td>...</td>\n",
       "      <td>2019.0</td>\n",
       "      <td>NaN</td>\n",
       "      <td>617.789264</td>\n",
       "      <td>843.747000</td>\n",
       "      <td>886.004428</td>\n",
       "      <td>663.774500</td>\n",
       "      <td>626.239128</td>\n",
       "      <td>NaN</td>\n",
       "      <td>Central Electricity Authority</td>\n",
       "      <td>NaN</td>\n",
       "    </tr>\n",
       "    <tr>\n",
       "      <th>4</th>\n",
       "      <td>IND</td>\n",
       "      <td>India</td>\n",
       "      <td>AKALTARA TPP</td>\n",
       "      <td>IND0000002</td>\n",
       "      <td>1800.0</td>\n",
       "      <td>21.9603</td>\n",
       "      <td>82.4091</td>\n",
       "      <td>Coal</td>\n",
       "      <td>Oil</td>\n",
       "      <td>NaN</td>\n",
       "      <td>...</td>\n",
       "      <td>2019.0</td>\n",
       "      <td>NaN</td>\n",
       "      <td>3035.550000</td>\n",
       "      <td>5916.370000</td>\n",
       "      <td>6243.000000</td>\n",
       "      <td>5385.579736</td>\n",
       "      <td>7279.000000</td>\n",
       "      <td>NaN</td>\n",
       "      <td>Central Electricity Authority</td>\n",
       "      <td>NaN</td>\n",
       "    </tr>\n",
       "    <tr>\n",
       "      <th>...</th>\n",
       "      <td>...</td>\n",
       "      <td>...</td>\n",
       "      <td>...</td>\n",
       "      <td>...</td>\n",
       "      <td>...</td>\n",
       "      <td>...</td>\n",
       "      <td>...</td>\n",
       "      <td>...</td>\n",
       "      <td>...</td>\n",
       "      <td>...</td>\n",
       "      <td>...</td>\n",
       "      <td>...</td>\n",
       "      <td>...</td>\n",
       "      <td>...</td>\n",
       "      <td>...</td>\n",
       "      <td>...</td>\n",
       "      <td>...</td>\n",
       "      <td>...</td>\n",
       "      <td>...</td>\n",
       "      <td>...</td>\n",
       "      <td>...</td>\n",
       "    </tr>\n",
       "    <tr>\n",
       "      <th>902</th>\n",
       "      <td>IND</td>\n",
       "      <td>India</td>\n",
       "      <td>YERMARUS TPP</td>\n",
       "      <td>IND0000513</td>\n",
       "      <td>1600.0</td>\n",
       "      <td>16.2949</td>\n",
       "      <td>77.3568</td>\n",
       "      <td>Coal</td>\n",
       "      <td>Oil</td>\n",
       "      <td>NaN</td>\n",
       "      <td>...</td>\n",
       "      <td>2019.0</td>\n",
       "      <td>NaN</td>\n",
       "      <td>NaN</td>\n",
       "      <td>0.994875</td>\n",
       "      <td>233.596650</td>\n",
       "      <td>865.400000</td>\n",
       "      <td>686.500000</td>\n",
       "      <td>NaN</td>\n",
       "      <td>Central Electricity Authority</td>\n",
       "      <td>NaN</td>\n",
       "    </tr>\n",
       "    <tr>\n",
       "      <th>903</th>\n",
       "      <td>IND</td>\n",
       "      <td>India</td>\n",
       "      <td>Yelesandra Solar Power Plant</td>\n",
       "      <td>WRI1026222</td>\n",
       "      <td>3.0</td>\n",
       "      <td>12.8932</td>\n",
       "      <td>78.1654</td>\n",
       "      <td>Solar</td>\n",
       "      <td>NaN</td>\n",
       "      <td>NaN</td>\n",
       "      <td>...</td>\n",
       "      <td>NaN</td>\n",
       "      <td>NaN</td>\n",
       "      <td>NaN</td>\n",
       "      <td>NaN</td>\n",
       "      <td>NaN</td>\n",
       "      <td>NaN</td>\n",
       "      <td>NaN</td>\n",
       "      <td>NaN</td>\n",
       "      <td>NaN</td>\n",
       "      <td>NaN</td>\n",
       "    </tr>\n",
       "    <tr>\n",
       "      <th>904</th>\n",
       "      <td>IND</td>\n",
       "      <td>India</td>\n",
       "      <td>Yelisirur wind power project</td>\n",
       "      <td>WRI1026776</td>\n",
       "      <td>25.5</td>\n",
       "      <td>15.2758</td>\n",
       "      <td>75.5811</td>\n",
       "      <td>Wind</td>\n",
       "      <td>NaN</td>\n",
       "      <td>NaN</td>\n",
       "      <td>...</td>\n",
       "      <td>NaN</td>\n",
       "      <td>NaN</td>\n",
       "      <td>NaN</td>\n",
       "      <td>NaN</td>\n",
       "      <td>NaN</td>\n",
       "      <td>NaN</td>\n",
       "      <td>NaN</td>\n",
       "      <td>NaN</td>\n",
       "      <td>NaN</td>\n",
       "      <td>NaN</td>\n",
       "    </tr>\n",
       "    <tr>\n",
       "      <th>905</th>\n",
       "      <td>IND</td>\n",
       "      <td>India</td>\n",
       "      <td>ZAWAR MINES</td>\n",
       "      <td>WRI1019901</td>\n",
       "      <td>80.0</td>\n",
       "      <td>24.3500</td>\n",
       "      <td>73.7477</td>\n",
       "      <td>Coal</td>\n",
       "      <td>NaN</td>\n",
       "      <td>NaN</td>\n",
       "      <td>...</td>\n",
       "      <td>NaN</td>\n",
       "      <td>NaN</td>\n",
       "      <td>NaN</td>\n",
       "      <td>NaN</td>\n",
       "      <td>NaN</td>\n",
       "      <td>NaN</td>\n",
       "      <td>NaN</td>\n",
       "      <td>NaN</td>\n",
       "      <td>NaN</td>\n",
       "      <td>NaN</td>\n",
       "    </tr>\n",
       "    <tr>\n",
       "      <th>906</th>\n",
       "      <td>IND</td>\n",
       "      <td>India</td>\n",
       "      <td>iEnergy Theni Wind Farm</td>\n",
       "      <td>WRI1026761</td>\n",
       "      <td>16.5</td>\n",
       "      <td>9.9344</td>\n",
       "      <td>77.4768</td>\n",
       "      <td>Wind</td>\n",
       "      <td>NaN</td>\n",
       "      <td>NaN</td>\n",
       "      <td>...</td>\n",
       "      <td>NaN</td>\n",
       "      <td>NaN</td>\n",
       "      <td>NaN</td>\n",
       "      <td>NaN</td>\n",
       "      <td>NaN</td>\n",
       "      <td>NaN</td>\n",
       "      <td>NaN</td>\n",
       "      <td>NaN</td>\n",
       "      <td>NaN</td>\n",
       "      <td>NaN</td>\n",
       "    </tr>\n",
       "  </tbody>\n",
       "</table>\n",
       "<p>907 rows × 27 columns</p>\n",
       "</div>"
      ],
      "text/plain": [
       "    country country_long                          name   gppd_idnr  \\\n",
       "0       IND        India              ACME Solar Tower  WRI1020239   \n",
       "1       IND        India           ADITYA CEMENT WORKS  WRI1019881   \n",
       "2       IND        India      AES Saurashtra Windfarms  WRI1026669   \n",
       "3       IND        India                   AGARTALA GT  IND0000001   \n",
       "4       IND        India                  AKALTARA TPP  IND0000002   \n",
       "..      ...          ...                           ...         ...   \n",
       "902     IND        India                  YERMARUS TPP  IND0000513   \n",
       "903     IND        India  Yelesandra Solar Power Plant  WRI1026222   \n",
       "904     IND        India  Yelisirur wind power project  WRI1026776   \n",
       "905     IND        India                   ZAWAR MINES  WRI1019901   \n",
       "906     IND        India       iEnergy Theni Wind Farm  WRI1026761   \n",
       "\n",
       "     capacity_mw  latitude  longitude primary_fuel other_fuel1 other_fuel2  \\\n",
       "0            2.5   28.1839    73.2407        Solar         NaN         NaN   \n",
       "1           98.0   24.7663    74.6090         Coal         NaN         NaN   \n",
       "2           39.2   21.9038    69.3732         Wind         NaN         NaN   \n",
       "3          135.0   23.8712    91.3602          Gas         NaN         NaN   \n",
       "4         1800.0   21.9603    82.4091         Coal         Oil         NaN   \n",
       "..           ...       ...        ...          ...         ...         ...   \n",
       "902       1600.0   16.2949    77.3568         Coal         Oil         NaN   \n",
       "903          3.0   12.8932    78.1654        Solar         NaN         NaN   \n",
       "904         25.5   15.2758    75.5811         Wind         NaN         NaN   \n",
       "905         80.0   24.3500    73.7477         Coal         NaN         NaN   \n",
       "906         16.5    9.9344    77.4768         Wind         NaN         NaN   \n",
       "\n",
       "     ...  year_of_capacity_data  generation_gwh_2013 generation_gwh_2014  \\\n",
       "0    ...                    NaN                  NaN                 NaN   \n",
       "1    ...                    NaN                  NaN                 NaN   \n",
       "2    ...                    NaN                  NaN                 NaN   \n",
       "3    ...                 2019.0                  NaN          617.789264   \n",
       "4    ...                 2019.0                  NaN         3035.550000   \n",
       "..   ...                    ...                  ...                 ...   \n",
       "902  ...                 2019.0                  NaN                 NaN   \n",
       "903  ...                    NaN                  NaN                 NaN   \n",
       "904  ...                    NaN                  NaN                 NaN   \n",
       "905  ...                    NaN                  NaN                 NaN   \n",
       "906  ...                    NaN                  NaN                 NaN   \n",
       "\n",
       "    generation_gwh_2015 generation_gwh_2016 generation_gwh_2017  \\\n",
       "0                   NaN                 NaN                 NaN   \n",
       "1                   NaN                 NaN                 NaN   \n",
       "2                   NaN                 NaN                 NaN   \n",
       "3            843.747000          886.004428          663.774500   \n",
       "4           5916.370000         6243.000000         5385.579736   \n",
       "..                  ...                 ...                 ...   \n",
       "902            0.994875          233.596650          865.400000   \n",
       "903                 NaN                 NaN                 NaN   \n",
       "904                 NaN                 NaN                 NaN   \n",
       "905                 NaN                 NaN                 NaN   \n",
       "906                 NaN                 NaN                 NaN   \n",
       "\n",
       "     generation_gwh_2018  generation_gwh_2019         generation_data_source  \\\n",
       "0                    NaN                  NaN                            NaN   \n",
       "1                    NaN                  NaN                            NaN   \n",
       "2                    NaN                  NaN                            NaN   \n",
       "3             626.239128                  NaN  Central Electricity Authority   \n",
       "4            7279.000000                  NaN  Central Electricity Authority   \n",
       "..                   ...                  ...                            ...   \n",
       "902           686.500000                  NaN  Central Electricity Authority   \n",
       "903                  NaN                  NaN                            NaN   \n",
       "904                  NaN                  NaN                            NaN   \n",
       "905                  NaN                  NaN                            NaN   \n",
       "906                  NaN                  NaN                            NaN   \n",
       "\n",
       "     estimated_generation_gwh  \n",
       "0                         NaN  \n",
       "1                         NaN  \n",
       "2                         NaN  \n",
       "3                         NaN  \n",
       "4                         NaN  \n",
       "..                        ...  \n",
       "902                       NaN  \n",
       "903                       NaN  \n",
       "904                       NaN  \n",
       "905                       NaN  \n",
       "906                       NaN  \n",
       "\n",
       "[907 rows x 27 columns]"
      ]
     },
     "execution_count": 5,
     "metadata": {},
     "output_type": "execute_result"
    }
   ],
   "source": [
    "df"
   ]
  },
  {
   "cell_type": "code",
   "execution_count": 6,
   "id": "e953d93f",
   "metadata": {},
   "outputs": [
    {
     "data": {
      "text/plain": [
       "Index(['country', 'country_long', 'name', 'gppd_idnr', 'capacity_mw',\n",
       "       'latitude', 'longitude', 'primary_fuel', 'other_fuel1', 'other_fuel2',\n",
       "       'other_fuel3', 'commissioning_year', 'owner', 'source', 'url',\n",
       "       'geolocation_source', 'wepp_id', 'year_of_capacity_data',\n",
       "       'generation_gwh_2013', 'generation_gwh_2014', 'generation_gwh_2015',\n",
       "       'generation_gwh_2016', 'generation_gwh_2017', 'generation_gwh_2018',\n",
       "       'generation_gwh_2019', 'generation_data_source',\n",
       "       'estimated_generation_gwh'],\n",
       "      dtype='object')"
      ]
     },
     "execution_count": 6,
     "metadata": {},
     "output_type": "execute_result"
    }
   ],
   "source": [
    "df.columns"
   ]
  },
  {
   "cell_type": "markdown",
   "id": "6f0c362e",
   "metadata": {},
   "source": [
    "# \n",
    "These are the categorical columns in the given dataset"
   ]
  },
  {
   "cell_type": "code",
   "execution_count": 7,
   "id": "fe991ac2",
   "metadata": {},
   "outputs": [
    {
     "data": {
      "text/plain": [
       "(907, 27)"
      ]
     },
     "execution_count": 7,
     "metadata": {},
     "output_type": "execute_result"
    }
   ],
   "source": [
    "df.shape"
   ]
  },
  {
   "cell_type": "markdown",
   "id": "7bd6892d",
   "metadata": {},
   "source": [
    "# \n",
    "We have 907 rows and 27 columns in data"
   ]
  },
  {
   "cell_type": "code",
   "execution_count": 8,
   "id": "508b1157",
   "metadata": {},
   "outputs": [
    {
     "data": {
      "text/plain": [
       "country                       0\n",
       "country_long                  0\n",
       "name                          0\n",
       "gppd_idnr                     0\n",
       "capacity_mw                   0\n",
       "latitude                     46\n",
       "longitude                    46\n",
       "primary_fuel                  0\n",
       "other_fuel1                 709\n",
       "other_fuel2                 906\n",
       "other_fuel3                 907\n",
       "commissioning_year          380\n",
       "owner                       565\n",
       "source                        0\n",
       "url                           0\n",
       "geolocation_source           19\n",
       "wepp_id                     907\n",
       "year_of_capacity_data       388\n",
       "generation_gwh_2013         907\n",
       "generation_gwh_2014         509\n",
       "generation_gwh_2015         485\n",
       "generation_gwh_2016         473\n",
       "generation_gwh_2017         467\n",
       "generation_gwh_2018         459\n",
       "generation_gwh_2019         907\n",
       "generation_data_source      458\n",
       "estimated_generation_gwh    907\n",
       "dtype: int64"
      ]
     },
     "execution_count": 8,
     "metadata": {},
     "output_type": "execute_result"
    }
   ],
   "source": [
    "df.isnull().sum()"
   ]
  },
  {
   "cell_type": "markdown",
   "id": "7b32cf46",
   "metadata": {},
   "source": [
    "# \n",
    "There are most of missing values in data\n"
   ]
  },
  {
   "cell_type": "code",
   "execution_count": 9,
   "id": "9a299414",
   "metadata": {},
   "outputs": [
    {
     "data": {
      "image/png": "[encoded data removed]",
      "text/plain": [
       "<Figure size 432x288 with 2 Axes>"
      ]
     },
     "metadata": {
      "needs_background": "light"
     },
     "output_type": "display_data"
    }
   ],
   "source": [
    "sns.heatmap(df.isnull())\n",
    "plt.title(\"Null values\")\n",
    "plt.show()"
   ]
  },
  {
   "cell_type": "markdown",
   "id": "39a6a697",
   "metadata": {},
   "source": [
    "# \n",
    "The white lines in the heat map representd the missing values in the data"
   ]
  },
  {
   "cell_type": "markdown",
   "id": "075891d3",
   "metadata": {},
   "source": [
    "# \n",
    "There are 12 object and 15 numerical columns in data"
   ]
  },
  {
   "cell_type": "code",
   "execution_count": 10,
   "id": "bf1c685c",
   "metadata": {},
   "outputs": [
    {
     "name": "stdout",
     "output_type": "stream",
     "text": [
      "<class 'pandas.core.frame.DataFrame'>\n",
      "RangeIndex: 907 entries, 0 to 906\n",
      "Data columns (total 27 columns):\n",
      " #   Column                    Non-Null Count  Dtype  \n",
      "---  ------                    --------------  -----  \n",
      " 0   country                   907 non-null    object \n",
      " 1   country_long              907 non-null    object \n",
      " 2   name                      907 non-null    object \n",
      " 3   gppd_idnr                 907 non-null    object \n",
      " 4   capacity_mw               907 non-null    float64\n",
      " 5   latitude                  861 non-null    float64\n",
      " 6   longitude                 861 non-null    float64\n",
      " 7   primary_fuel              907 non-null    object \n",
      " 8   other_fuel1               198 non-null    object \n",
      " 9   other_fuel2               1 non-null      object \n",
      " 10  other_fuel3               0 non-null      float64\n",
      " 11  commissioning_year        527 non-null    float64\n",
      " 12  owner                     342 non-null    object \n",
      " 13  source                    907 non-null    object \n",
      " 14  url                       907 non-null    object \n",
      " 15  geolocation_source        888 non-null    object \n",
      " 16  wepp_id                   0 non-null      float64\n",
      " 17  year_of_capacity_data     519 non-null    float64\n",
      " 18  generation_gwh_2013       0 non-null      float64\n",
      " 19  generation_gwh_2014       398 non-null    float64\n",
      " 20  generation_gwh_2015       422 non-null    float64\n",
      " 21  generation_gwh_2016       434 non-null    float64\n",
      " 22  generation_gwh_2017       440 non-null    float64\n",
      " 23  generation_gwh_2018       448 non-null    float64\n",
      " 24  generation_gwh_2019       0 non-null      float64\n",
      " 25  generation_data_source    449 non-null    object \n",
      " 26  estimated_generation_gwh  0 non-null      float64\n",
      "dtypes: float64(15), object(12)\n",
      "memory usage: 191.4+ KB\n"
     ]
    }
   ],
   "source": [
    "df.info()"
   ]
  },
  {
   "cell_type": "markdown",
   "id": "188d2a89",
   "metadata": {},
   "source": [
    "# we are going to remove some columns those having maximum no of null values because if we fill those values prediction will not correct"
   ]
  },
  {
   "cell_type": "code",
   "execution_count": 11,
   "id": "51076993",
   "metadata": {},
   "outputs": [],
   "source": [
    "df.drop(['estimated_generation_gwh','wepp_id','other_fuel1','other_fuel2','other_fuel3'],axis=1,inplace=True)"
   ]
  },
  {
   "cell_type": "code",
   "execution_count": 12,
   "id": "c6ccd692",
   "metadata": {},
   "outputs": [
    {
     "data": {
      "text/plain": [
       "country                     0\n",
       "country_long                0\n",
       "name                        0\n",
       "gppd_idnr                   0\n",
       "capacity_mw                 0\n",
       "latitude                   46\n",
       "longitude                  46\n",
       "primary_fuel                0\n",
       "commissioning_year        380\n",
       "owner                     565\n",
       "source                      0\n",
       "url                         0\n",
       "geolocation_source         19\n",
       "year_of_capacity_data     388\n",
       "generation_gwh_2013       907\n",
       "generation_gwh_2014       509\n",
       "generation_gwh_2015       485\n",
       "generation_gwh_2016       473\n",
       "generation_gwh_2017       467\n",
       "generation_gwh_2018       459\n",
       "generation_gwh_2019       907\n",
       "generation_data_source    458\n",
       "dtype: int64"
      ]
     },
     "execution_count": 12,
     "metadata": {},
     "output_type": "execute_result"
    }
   ],
   "source": [
    "df.isnull().sum()"
   ]
  },
  {
   "cell_type": "markdown",
   "id": "285e7e1f",
   "metadata": {},
   "source": [
    "# Removing Unwanted Columns"
   ]
  },
  {
   "cell_type": "code",
   "execution_count": 13,
   "id": "37993c03",
   "metadata": {},
   "outputs": [],
   "source": [
    "df.drop(['gppd_idnr','owner','generation_data_source'],axis=1,inplace=True)"
   ]
  },
  {
   "cell_type": "code",
   "execution_count": 14,
   "id": "3f38a282",
   "metadata": {},
   "outputs": [
    {
     "data": {
      "text/plain": [
       "country                    0\n",
       "country_long               0\n",
       "name                       0\n",
       "capacity_mw                0\n",
       "latitude                  46\n",
       "longitude                 46\n",
       "primary_fuel               0\n",
       "commissioning_year       380\n",
       "source                     0\n",
       "url                        0\n",
       "geolocation_source        19\n",
       "year_of_capacity_data    388\n",
       "generation_gwh_2013      907\n",
       "generation_gwh_2014      509\n",
       "generation_gwh_2015      485\n",
       "generation_gwh_2016      473\n",
       "generation_gwh_2017      467\n",
       "generation_gwh_2018      459\n",
       "generation_gwh_2019      907\n",
       "dtype: int64"
      ]
     },
     "execution_count": 14,
     "metadata": {},
     "output_type": "execute_result"
    }
   ],
   "source": [
    "df.isnull().sum()"
   ]
  },
  {
   "cell_type": "code",
   "execution_count": 15,
   "id": "1819631a",
   "metadata": {
    "scrolled": true
   },
   "outputs": [
    {
     "data": {
      "text/html": [
       "<div>\n",
       "<style scoped>\n",
       "    .dataframe tbody tr th:only-of-type {\n",
       "        vertical-align: middle;\n",
       "    }\n",
       "\n",
       "    .dataframe tbody tr th {\n",
       "        vertical-align: top;\n",
       "    }\n",
       "\n",
       "    .dataframe thead th {\n",
       "        text-align: right;\n",
       "    }\n",
       "</style>\n",
       "<table border=\"1\" class=\"dataframe\">\n",
       "  <thead>\n",
       "    <tr style=\"text-align: right;\">\n",
       "      <th></th>\n",
       "      <th>capacity_mw</th>\n",
       "      <th>latitude</th>\n",
       "      <th>longitude</th>\n",
       "      <th>commissioning_year</th>\n",
       "      <th>year_of_capacity_data</th>\n",
       "      <th>generation_gwh_2013</th>\n",
       "      <th>generation_gwh_2014</th>\n",
       "      <th>generation_gwh_2015</th>\n",
       "      <th>generation_gwh_2016</th>\n",
       "      <th>generation_gwh_2017</th>\n",
       "      <th>generation_gwh_2018</th>\n",
       "      <th>generation_gwh_2019</th>\n",
       "    </tr>\n",
       "  </thead>\n",
       "  <tbody>\n",
       "    <tr>\n",
       "      <th>count</th>\n",
       "      <td>907.000000</td>\n",
       "      <td>861.000000</td>\n",
       "      <td>861.000000</td>\n",
       "      <td>527.000000</td>\n",
       "      <td>519.0</td>\n",
       "      <td>0.0</td>\n",
       "      <td>398.000000</td>\n",
       "      <td>422.000000</td>\n",
       "      <td>434.000000</td>\n",
       "      <td>440.000000</td>\n",
       "      <td>448.000000</td>\n",
       "      <td>0.0</td>\n",
       "    </tr>\n",
       "    <tr>\n",
       "      <th>mean</th>\n",
       "      <td>326.223755</td>\n",
       "      <td>21.197918</td>\n",
       "      <td>77.464907</td>\n",
       "      <td>1997.091082</td>\n",
       "      <td>2019.0</td>\n",
       "      <td>NaN</td>\n",
       "      <td>2431.823590</td>\n",
       "      <td>2428.226946</td>\n",
       "      <td>2467.936859</td>\n",
       "      <td>2547.759305</td>\n",
       "      <td>2600.804099</td>\n",
       "      <td>NaN</td>\n",
       "    </tr>\n",
       "    <tr>\n",
       "      <th>std</th>\n",
       "      <td>590.085456</td>\n",
       "      <td>6.239612</td>\n",
       "      <td>4.939316</td>\n",
       "      <td>17.082868</td>\n",
       "      <td>0.0</td>\n",
       "      <td>NaN</td>\n",
       "      <td>4026.440035</td>\n",
       "      <td>4194.596959</td>\n",
       "      <td>4162.884308</td>\n",
       "      <td>4196.991169</td>\n",
       "      <td>4314.880456</td>\n",
       "      <td>NaN</td>\n",
       "    </tr>\n",
       "    <tr>\n",
       "      <th>min</th>\n",
       "      <td>0.000000</td>\n",
       "      <td>8.168900</td>\n",
       "      <td>68.644700</td>\n",
       "      <td>1927.000000</td>\n",
       "      <td>2019.0</td>\n",
       "      <td>NaN</td>\n",
       "      <td>0.000000</td>\n",
       "      <td>0.000000</td>\n",
       "      <td>0.000000</td>\n",
       "      <td>0.000000</td>\n",
       "      <td>0.000000</td>\n",
       "      <td>NaN</td>\n",
       "    </tr>\n",
       "    <tr>\n",
       "      <th>25%</th>\n",
       "      <td>16.725000</td>\n",
       "      <td>16.773900</td>\n",
       "      <td>74.256200</td>\n",
       "      <td>1988.000000</td>\n",
       "      <td>2019.0</td>\n",
       "      <td>NaN</td>\n",
       "      <td>223.557672</td>\n",
       "      <td>176.381063</td>\n",
       "      <td>188.285252</td>\n",
       "      <td>177.874930</td>\n",
       "      <td>193.378250</td>\n",
       "      <td>NaN</td>\n",
       "    </tr>\n",
       "    <tr>\n",
       "      <th>50%</th>\n",
       "      <td>59.200000</td>\n",
       "      <td>21.780000</td>\n",
       "      <td>76.719500</td>\n",
       "      <td>2001.000000</td>\n",
       "      <td>2019.0</td>\n",
       "      <td>NaN</td>\n",
       "      <td>801.123775</td>\n",
       "      <td>711.181225</td>\n",
       "      <td>737.205450</td>\n",
       "      <td>817.977250</td>\n",
       "      <td>751.644375</td>\n",
       "      <td>NaN</td>\n",
       "    </tr>\n",
       "    <tr>\n",
       "      <th>75%</th>\n",
       "      <td>385.250000</td>\n",
       "      <td>25.512400</td>\n",
       "      <td>79.440800</td>\n",
       "      <td>2012.000000</td>\n",
       "      <td>2019.0</td>\n",
       "      <td>NaN</td>\n",
       "      <td>3035.306250</td>\n",
       "      <td>3084.121250</td>\n",
       "      <td>3282.861313</td>\n",
       "      <td>3275.690475</td>\n",
       "      <td>3143.535900</td>\n",
       "      <td>NaN</td>\n",
       "    </tr>\n",
       "    <tr>\n",
       "      <th>max</th>\n",
       "      <td>4760.000000</td>\n",
       "      <td>34.649000</td>\n",
       "      <td>95.408000</td>\n",
       "      <td>2018.000000</td>\n",
       "      <td>2019.0</td>\n",
       "      <td>NaN</td>\n",
       "      <td>28127.000000</td>\n",
       "      <td>30539.000000</td>\n",
       "      <td>30015.000000</td>\n",
       "      <td>35116.000000</td>\n",
       "      <td>35136.000000</td>\n",
       "      <td>NaN</td>\n",
       "    </tr>\n",
       "  </tbody>\n",
       "</table>\n",
       "</div>"
      ],
      "text/plain": [
       "       capacity_mw    latitude   longitude  commissioning_year  \\\n",
       "count   907.000000  861.000000  861.000000          527.000000   \n",
       "mean    326.223755   21.197918   77.464907         1997.091082   \n",
       "std     590.085456    6.239612    4.939316           17.082868   \n",
       "min       0.000000    8.168900   68.644700         1927.000000   \n",
       "25%      16.725000   16.773900   74.256200         1988.000000   \n",
       "50%      59.200000   21.780000   76.719500         2001.000000   \n",
       "75%     385.250000   25.512400   79.440800         2012.000000   \n",
       "max    4760.000000   34.649000   95.408000         2018.000000   \n",
       "\n",
       "       year_of_capacity_data  generation_gwh_2013  generation_gwh_2014  \\\n",
       "count                  519.0                  0.0           398.000000   \n",
       "mean                  2019.0                  NaN          2431.823590   \n",
       "std                      0.0                  NaN          4026.440035   \n",
       "min                   2019.0                  NaN             0.000000   \n",
       "25%                   2019.0                  NaN           223.557672   \n",
       "50%                   2019.0                  NaN           801.123775   \n",
       "75%                   2019.0                  NaN          3035.306250   \n",
       "max                   2019.0                  NaN         28127.000000   \n",
       "\n",
       "       generation_gwh_2015  generation_gwh_2016  generation_gwh_2017  \\\n",
       "count           422.000000           434.000000           440.000000   \n",
       "mean           2428.226946          2467.936859          2547.759305   \n",
       "std            4194.596959          4162.884308          4196.991169   \n",
       "min               0.000000             0.000000             0.000000   \n",
       "25%             176.381063           188.285252           177.874930   \n",
       "50%             711.181225           737.205450           817.977250   \n",
       "75%            3084.121250          3282.861313          3275.690475   \n",
       "max           30539.000000         30015.000000         35116.000000   \n",
       "\n",
       "       generation_gwh_2018  generation_gwh_2019  \n",
       "count           448.000000                  0.0  \n",
       "mean           2600.804099                  NaN  \n",
       "std            4314.880456                  NaN  \n",
       "min               0.000000                  NaN  \n",
       "25%             193.378250                  NaN  \n",
       "50%             751.644375                  NaN  \n",
       "75%            3143.535900                  NaN  \n",
       "max           35136.000000                  NaN  "
      ]
     },
     "execution_count": 15,
     "metadata": {},
     "output_type": "execute_result"
    }
   ],
   "source": [
    "df.describe()"
   ]
  },
  {
   "cell_type": "code",
   "execution_count": 16,
   "id": "0aaeb4c1",
   "metadata": {},
   "outputs": [
    {
     "data": {
      "text/plain": [
       "0"
      ]
     },
     "execution_count": 16,
     "metadata": {},
     "output_type": "execute_result"
    }
   ],
   "source": [
    "df['generation_gwh_2013'].nunique()"
   ]
  },
  {
   "cell_type": "code",
   "execution_count": 17,
   "id": "3c3a390d",
   "metadata": {},
   "outputs": [
    {
     "data": {
      "text/plain": [
       "0"
      ]
     },
     "execution_count": 17,
     "metadata": {},
     "output_type": "execute_result"
    }
   ],
   "source": [
    "df['generation_gwh_2019'].nunique()"
   ]
  },
  {
   "cell_type": "code",
   "execution_count": 18,
   "id": "b0229c41",
   "metadata": {},
   "outputs": [],
   "source": [
    "df.drop(['generation_gwh_2013','generation_gwh_2019'],axis=1,inplace=True)"
   ]
  },
  {
   "cell_type": "markdown",
   "id": "b35c37dc",
   "metadata": {},
   "source": [
    "# \n",
    "Also removing column 'year_of_capacity_data' because it having one unique value"
   ]
  },
  {
   "cell_type": "code",
   "execution_count": 19,
   "id": "36219553",
   "metadata": {},
   "outputs": [
    {
     "data": {
      "text/plain": [
       "907"
      ]
     },
     "execution_count": 19,
     "metadata": {},
     "output_type": "execute_result"
    }
   ],
   "source": [
    "df['name'].nunique()"
   ]
  },
  {
   "cell_type": "markdown",
   "id": "50fb0eca",
   "metadata": {},
   "source": [
    "# \n",
    "Also dropping name column there no use of it"
   ]
  },
  {
   "cell_type": "code",
   "execution_count": 20,
   "id": "d8874aa3",
   "metadata": {},
   "outputs": [],
   "source": [
    "df.drop(['name','year_of_capacity_data','url'],axis=1,inplace=True)"
   ]
  },
  {
   "cell_type": "code",
   "execution_count": 21,
   "id": "c41f6360",
   "metadata": {},
   "outputs": [
    {
     "data": {
      "text/plain": [
       "array(['National Renewable Energy Laboratory', 'WRI', nan,\n",
       "       'Industry About'], dtype=object)"
      ]
     },
     "execution_count": 21,
     "metadata": {},
     "output_type": "execute_result"
    }
   ],
   "source": [
    "df['geolocation_source'].unique()"
   ]
  },
  {
   "cell_type": "code",
   "execution_count": 22,
   "id": "d8cb75ba",
   "metadata": {},
   "outputs": [],
   "source": [
    "df['geolocation_source'].fillna(df['geolocation_source'].mode()[0], inplace=True)\n",
    "df.fillna(df.median()[0], inplace=True)"
   ]
  },
  {
   "cell_type": "code",
   "execution_count": 23,
   "id": "251ee5f5",
   "metadata": {},
   "outputs": [
    {
     "data": {
      "text/plain": [
       "country                0\n",
       "country_long           0\n",
       "capacity_mw            0\n",
       "latitude               0\n",
       "longitude              0\n",
       "primary_fuel           0\n",
       "commissioning_year     0\n",
       "source                 0\n",
       "geolocation_source     0\n",
       "generation_gwh_2014    0\n",
       "generation_gwh_2015    0\n",
       "generation_gwh_2016    0\n",
       "generation_gwh_2017    0\n",
       "generation_gwh_2018    0\n",
       "dtype: int64"
      ]
     },
     "execution_count": 23,
     "metadata": {},
     "output_type": "execute_result"
    }
   ],
   "source": [
    "df.isnull().sum()"
   ]
  },
  {
   "cell_type": "code",
   "execution_count": 24,
   "id": "1346e41d",
   "metadata": {},
   "outputs": [
    {
     "data": {
      "image/png": "[encoded data removed]",
      "text/plain": [
       "<Figure size 432x288 with 2 Axes>"
      ]
     },
     "metadata": {
      "needs_background": "light"
     },
     "output_type": "display_data"
    }
   ],
   "source": [
    "sns.heatmap(df.isnull())\n",
    "plt.title(\"Null values\")\n",
    "plt.show()"
   ]
  },
  {
   "cell_type": "markdown",
   "id": "7d117add",
   "metadata": {},
   "source": [
    "# \n",
    "Here, we can see that null values has been removed"
   ]
  },
  {
   "cell_type": "code",
   "execution_count": 25,
   "id": "43859411",
   "metadata": {},
   "outputs": [
    {
     "data": {
      "text/plain": [
       "191"
      ]
     },
     "execution_count": 25,
     "metadata": {},
     "output_type": "execute_result"
    }
   ],
   "source": [
    "df['source'].nunique()"
   ]
  },
  {
   "cell_type": "code",
   "execution_count": 26,
   "id": "00c6e4f3",
   "metadata": {},
   "outputs": [
    {
     "data": {
      "text/plain": [
       "3"
      ]
     },
     "execution_count": 26,
     "metadata": {},
     "output_type": "execute_result"
    }
   ],
   "source": [
    "df['geolocation_source'].nunique()"
   ]
  },
  {
   "cell_type": "code",
   "execution_count": 27,
   "id": "47c127d5",
   "metadata": {},
   "outputs": [
    {
     "data": {
      "text/plain": [
       "1"
      ]
     },
     "execution_count": 27,
     "metadata": {},
     "output_type": "execute_result"
    }
   ],
   "source": [
    "df['country'].nunique()"
   ]
  },
  {
   "cell_type": "code",
   "execution_count": 28,
   "id": "cb950d11",
   "metadata": {},
   "outputs": [
    {
     "data": {
      "text/plain": [
       "1"
      ]
     },
     "execution_count": 28,
     "metadata": {},
     "output_type": "execute_result"
    }
   ],
   "source": [
    "df['country_long'].nunique()"
   ]
  },
  {
   "cell_type": "markdown",
   "id": "5e97c4f6",
   "metadata": {},
   "source": [
    "# \n",
    "Also dropping columns 'country' and 'country_long' because having one country name only, it will not help for any prediction"
   ]
  },
  {
   "cell_type": "code",
   "execution_count": 29,
   "id": "fcdd7578",
   "metadata": {},
   "outputs": [],
   "source": [
    "df.drop(['country','country_long'],axis=1,inplace=True)"
   ]
  },
  {
   "cell_type": "code",
   "execution_count": 30,
   "id": "f952359f",
   "metadata": {},
   "outputs": [
    {
     "name": "stdout",
     "output_type": "stream",
     "text": [
      "<class 'pandas.core.frame.DataFrame'>\n",
      "RangeIndex: 907 entries, 0 to 906\n",
      "Data columns (total 12 columns):\n",
      " #   Column               Non-Null Count  Dtype  \n",
      "---  ------               --------------  -----  \n",
      " 0   capacity_mw          907 non-null    float64\n",
      " 1   latitude             907 non-null    float64\n",
      " 2   longitude            907 non-null    float64\n",
      " 3   primary_fuel         907 non-null    object \n",
      " 4   commissioning_year   907 non-null    float64\n",
      " 5   source               907 non-null    object \n",
      " 6   geolocation_source   907 non-null    object \n",
      " 7   generation_gwh_2014  907 non-null    float64\n",
      " 8   generation_gwh_2015  907 non-null    float64\n",
      " 9   generation_gwh_2016  907 non-null    float64\n",
      " 10  generation_gwh_2017  907 non-null    float64\n",
      " 11  generation_gwh_2018  907 non-null    float64\n",
      "dtypes: float64(9), object(3)\n",
      "memory usage: 85.2+ KB\n"
     ]
    }
   ],
   "source": [
    "df.info()"
   ]
  },
  {
   "cell_type": "markdown",
   "id": "d8fed795",
   "metadata": {},
   "source": [
    "# \n",
    "\n",
    "This gives the information about the dataset which includes indexing type, column type, no-null values and memory usage"
   ]
  },
  {
   "cell_type": "code",
   "execution_count": 31,
   "id": "4d7cede4",
   "metadata": {},
   "outputs": [
    {
     "data": {
      "text/plain": [
       "<AxesSubplot:xlabel='primary_fuel', ylabel='count'>"
      ]
     },
     "execution_count": 31,
     "metadata": {},
     "output_type": "execute_result"
    },
    {
     "data": {
      "image/png": "[encoded data removed]",
      "text/plain": [
       "<Figure size 432x288 with 1 Axes>"
      ]
     },
     "metadata": {},
     "output_type": "display_data"
    }
   ],
   "source": [
    "sns.set_style('whitegrid')\n",
    "sns.countplot(x=\"primary_fuel\", data=df)"
   ]
  },
  {
   "cell_type": "markdown",
   "id": "c78caaad",
   "metadata": {},
   "source": [
    "# EDA"
   ]
  },
  {
   "cell_type": "code",
   "execution_count": 32,
   "id": "66b3f2eb",
   "metadata": {},
   "outputs": [
    {
     "data": {
      "text/plain": [
       "<function matplotlib.pyplot.show(close=None, block=None)>"
      ]
     },
     "execution_count": 32,
     "metadata": {},
     "output_type": "execute_result"
    },
    {
     "data": {
      "image/png": "[encoded data removed]",
      "text/plain": [
       "<Figure size 1584x864 with 2 Axes>"
      ]
     },
     "metadata": {},
     "output_type": "display_data"
    }
   ],
   "source": [
    "corr_mat=df.corr()\n",
    "\n",
    "plt.figure(figsize=[22,12])\n",
    "sns.heatmap(corr_mat,annot=True)\n",
    "plt.title(\"correlation Matrix\")\n",
    "plt.show"
   ]
  },
  {
   "cell_type": "code",
   "execution_count": 33,
   "id": "4d7bd18a",
   "metadata": {},
   "outputs": [
    {
     "data": {
      "text/plain": [
       "capacity_mw            1.000000\n",
       "generation_gwh_2018    0.905488\n",
       "generation_gwh_2017    0.892899\n",
       "generation_gwh_2016    0.875369\n",
       "generation_gwh_2015    0.841468\n",
       "generation_gwh_2014    0.814674\n",
       "commissioning_year     0.414775\n",
       "longitude              0.216974\n",
       "latitude              -0.053917\n",
       "Name: capacity_mw, dtype: float64"
      ]
     },
     "execution_count": 33,
     "metadata": {},
     "output_type": "execute_result"
    }
   ],
   "source": [
    "corr_matrix=df.corr()\n",
    "corr_matrix[\"capacity_mw\"].sort_values(ascending=False)"
   ]
  },
  {
   "cell_type": "markdown",
   "id": "7bd71c16",
   "metadata": {},
   "source": [
    "# \n",
    "Here we can notice generation_gwh_2014,....2015,...2016 ,...2017,....2018 are positively correlated to capacity_mw and latitude is negative correlated"
   ]
  },
  {
   "cell_type": "code",
   "execution_count": 34,
   "id": "4756af41",
   "metadata": {},
   "outputs": [
    {
     "data": {
      "text/plain": [
       "<AxesSubplot:xlabel='capacity_mw', ylabel='generation_gwh_2014'>"
      ]
     },
     "execution_count": 34,
     "metadata": {},
     "output_type": "execute_result"
    },
    {
     "data": {
      "image/png": "[encoded data removed]",
      "text/plain": [
       "<Figure size 576x288 with 1 Axes>"
      ]
     },
     "metadata": {},
     "output_type": "display_data"
    }
   ],
   "source": [
    "plt.figure(figsize=(8,4))\n",
    "sns.scatterplot(x='capacity_mw',y='generation_gwh_2014',data=df)"
   ]
  },
  {
   "cell_type": "markdown",
   "id": "2c69cd03",
   "metadata": {},
   "source": [
    "# \n",
    "we can notice here as electricity generation in gigawatt-hour increasing also increasing the no of electrical generating capacity in megawatts in 2014"
   ]
  },
  {
   "cell_type": "code",
   "execution_count": 35,
   "id": "7ec214ed",
   "metadata": {},
   "outputs": [
    {
     "data": {
      "text/plain": [
       "<AxesSubplot:xlabel='capacity_mw', ylabel='generation_gwh_2015'>"
      ]
     },
     "execution_count": 35,
     "metadata": {},
     "output_type": "execute_result"
    },
    {
     "data": {
      "image/png": "[encoded data removed]",
      "text/plain": [
       "<Figure size 576x288 with 1 Axes>"
      ]
     },
     "metadata": {},
     "output_type": "display_data"
    }
   ],
   "source": [
    "plt.figure(figsize=(8,4))\n",
    "sns.scatterplot(x='capacity_mw',y='generation_gwh_2015',data=df)"
   ]
  },
  {
   "cell_type": "markdown",
   "id": "94088298",
   "metadata": {},
   "source": [
    "#\n",
    "In 2015 we can also notice here as electricity generation in gigawatt-hour increasing also increasing the no of electrical generating capacity in megawatts in 2015"
   ]
  },
  {
   "cell_type": "code",
   "execution_count": 36,
   "id": "4d405d0c",
   "metadata": {},
   "outputs": [
    {
     "data": {
      "text/plain": [
       "<AxesSubplot:xlabel='capacity_mw', ylabel='generation_gwh_2016'>"
      ]
     },
     "execution_count": 36,
     "metadata": {},
     "output_type": "execute_result"
    },
    {
     "data": {
      "image/png": "[encoded data removed]",
      "text/plain": [
       "<Figure size 576x288 with 1 Axes>"
      ]
     },
     "metadata": {},
     "output_type": "display_data"
    }
   ],
   "source": [
    "plt.figure(figsize=(8,4))\n",
    "sns.scatterplot(x='capacity_mw',y='generation_gwh_2016',data=df)"
   ]
  },
  {
   "cell_type": "markdown",
   "id": "f736969f",
   "metadata": {},
   "source": [
    "# \n",
    "In 2016 we can also notice here as electricity generation in gigawatt-hour increasing also increasing the no of electrical generating capacity in megawatts in 2016"
   ]
  },
  {
   "cell_type": "code",
   "execution_count": 37,
   "id": "5390d6cc",
   "metadata": {},
   "outputs": [
    {
     "data": {
      "text/plain": [
       "<AxesSubplot:xlabel='capacity_mw', ylabel='generation_gwh_2017'>"
      ]
     },
     "execution_count": 37,
     "metadata": {},
     "output_type": "execute_result"
    },
    {
     "data": {
      "image/png": "[encoded data removed]",
      "text/plain": [
       "<Figure size 576x288 with 1 Axes>"
      ]
     },
     "metadata": {},
     "output_type": "display_data"
    }
   ],
   "source": [
    "plt.figure(figsize=(8,4))\n",
    "sns.scatterplot(x='capacity_mw',y='generation_gwh_2017',data=df)"
   ]
  },
  {
   "cell_type": "markdown",
   "id": "eef28610",
   "metadata": {},
   "source": [
    "# \n",
    "In 2017 we can also notice here as electricity generation in gigawatt-hour increasing also increasing the no of electrical generating capacity in megawatts in 2017\n",
    "\n"
   ]
  },
  {
   "cell_type": "code",
   "execution_count": 38,
   "id": "35c7e5bd",
   "metadata": {},
   "outputs": [
    {
     "data": {
      "text/plain": [
       "<AxesSubplot:xlabel='capacity_mw', ylabel='generation_gwh_2018'>"
      ]
     },
     "execution_count": 38,
     "metadata": {},
     "output_type": "execute_result"
    },
    {
     "data": {
      "image/png": "[encoded data removed]",
      "text/plain": [
       "<Figure size 576x288 with 1 Axes>"
      ]
     },
     "metadata": {},
     "output_type": "display_data"
    }
   ],
   "source": [
    "plt.figure(figsize=(8,4))\n",
    "sns.scatterplot(x='capacity_mw',y='generation_gwh_2018',data=df)"
   ]
  },
  {
   "cell_type": "markdown",
   "id": "8c10d711",
   "metadata": {},
   "source": [
    "# \n",
    "In 2018 we can also notice here as electricity generation in gigawatt-hour increasing also increasing the no of electrical generating capacity in megawatts in 2018\n",
    "\n"
   ]
  },
  {
   "cell_type": "code",
   "execution_count": 39,
   "id": "68b8d319",
   "metadata": {},
   "outputs": [
    {
     "data": {
      "text/plain": [
       "<AxesSubplot:xlabel='capacity_mw', ylabel='latitude'>"
      ]
     },
     "execution_count": 39,
     "metadata": {},
     "output_type": "execute_result"
    },
    {
     "data": {
      "image/png": "[encoded data removed]",
      "text/plain": [
       "<Figure size 576x288 with 1 Axes>"
      ]
     },
     "metadata": {},
     "output_type": "display_data"
    }
   ],
   "source": [
    "plt.figure(figsize=(8,4))\n",
    "sns.scatterplot(x='capacity_mw',y='latitude',data=df)"
   ]
  },
  {
   "cell_type": "code",
   "execution_count": 40,
   "id": "562895df",
   "metadata": {},
   "outputs": [
    {
     "data": {
      "text/plain": [
       "<AxesSubplot:xlabel='primary_fuel', ylabel='generation_gwh_2014'>"
      ]
     },
     "execution_count": 40,
     "metadata": {},
     "output_type": "execute_result"
    },
    {
     "data": {
      "image/png": "[encoded data removed]",
      "text/plain": [
       "<Figure size 576x288 with 1 Axes>"
      ]
     },
     "metadata": {},
     "output_type": "display_data"
    }
   ],
   "source": [
    "plt.figure(figsize=(8,4))\n",
    "sns.scatterplot(x='primary_fuel',y='generation_gwh_2014',data=df)"
   ]
  },
  {
   "cell_type": "markdown",
   "id": "558fcb37",
   "metadata": {},
   "source": [
    "# \n",
    "we can here the coal is most used fuel in 2014 and Nuclear,Gas and hydro on average use and Solar,Wind Bomass nad oil was very less used"
   ]
  },
  {
   "cell_type": "code",
   "execution_count": 41,
   "id": "fe61dd68",
   "metadata": {},
   "outputs": [
    {
     "data": {
      "text/plain": [
       "<AxesSubplot:xlabel='primary_fuel', ylabel='generation_gwh_2015'>"
      ]
     },
     "execution_count": 41,
     "metadata": {},
     "output_type": "execute_result"
    },
    {
     "data": {
      "image/png": "[encoded data removed]",
      "text/plain": [
       "<Figure size 576x288 with 1 Axes>"
      ]
     },
     "metadata": {},
     "output_type": "display_data"
    }
   ],
   "source": [
    "plt.figure(figsize=(8,4))\n",
    "sns.scatterplot(x='primary_fuel',y='generation_gwh_2015',data=df)"
   ]
  },
  {
   "cell_type": "code",
   "execution_count": 42,
   "id": "3304fa82",
   "metadata": {},
   "outputs": [
    {
     "data": {
      "text/plain": [
       "<AxesSubplot:xlabel='primary_fuel', ylabel='generation_gwh_2016'>"
      ]
     },
     "execution_count": 42,
     "metadata": {},
     "output_type": "execute_result"
    },
    {
     "data": {
      "image/png": "[encoded data removed]",
      "text/plain": [
       "<Figure size 576x288 with 1 Axes>"
      ]
     },
     "metadata": {},
     "output_type": "display_data"
    }
   ],
   "source": [
    "plt.figure(figsize=(8,4))\n",
    "sns.scatterplot(x='primary_fuel',y='generation_gwh_2016',data=df)"
   ]
  },
  {
   "cell_type": "code",
   "execution_count": 43,
   "id": "19fca11d",
   "metadata": {},
   "outputs": [
    {
     "data": {
      "text/plain": [
       "<AxesSubplot:xlabel='primary_fuel', ylabel='generation_gwh_2017'>"
      ]
     },
     "execution_count": 43,
     "metadata": {},
     "output_type": "execute_result"
    },
    {
     "data": {
      "image/png": "[encoded data removed]",
      "text/plain": [
       "<Figure size 576x288 with 1 Axes>"
      ]
     },
     "metadata": {},
     "output_type": "display_data"
    }
   ],
   "source": [
    "plt.figure(figsize=(8,4))\n",
    "sns.scatterplot(x='primary_fuel',y='generation_gwh_2017',data=df)"
   ]
  },
  {
   "cell_type": "code",
   "execution_count": 44,
   "id": "1d1da790",
   "metadata": {},
   "outputs": [
    {
     "data": {
      "text/plain": [
       "<AxesSubplot:xlabel='primary_fuel', ylabel='generation_gwh_2018'>"
      ]
     },
     "execution_count": 44,
     "metadata": {},
     "output_type": "execute_result"
    },
    {
     "data": {
      "image/png": "[encoded data removed]",
      "text/plain": [
       "<Figure size 576x288 with 1 Axes>"
      ]
     },
     "metadata": {},
     "output_type": "display_data"
    }
   ],
   "source": [
    "plt.figure(figsize=(8,4))\n",
    "sns.scatterplot(x='primary_fuel',y='generation_gwh_2018',data=df)"
   ]
  },
  {
   "cell_type": "markdown",
   "id": "97a5c790",
   "metadata": {},
   "source": [
    "# \n",
    "In all of the year 2014 to 2018 the coal is most used fuel in 2014 and Nuclear,Gas and hydro on average use and Solar,Wind Bomass nad oil was very less used"
   ]
  },
  {
   "cell_type": "code",
   "execution_count": 45,
   "id": "775438d9",
   "metadata": {},
   "outputs": [
    {
     "data": {
      "text/plain": [
       "<AxesSubplot:xlabel='primary_fuel', ylabel='latitude'>"
      ]
     },
     "execution_count": 45,
     "metadata": {},
     "output_type": "execute_result"
    },
    {
     "data": {
      "image/png": "[encoded data removed]",
      "text/plain": [
       "<Figure size 576x288 with 1 Axes>"
      ]
     },
     "metadata": {},
     "output_type": "display_data"
    }
   ],
   "source": [
    "plt.figure(figsize=(8,4))\n",
    "sns.scatterplot(x='primary_fuel',y='latitude',data=df)"
   ]
  },
  {
   "cell_type": "code",
   "execution_count": 46,
   "id": "6c40ed73",
   "metadata": {},
   "outputs": [
    {
     "data": {
      "text/plain": [
       "<AxesSubplot:xlabel='capacity_mw', ylabel='primary_fuel'>"
      ]
     },
     "execution_count": 46,
     "metadata": {},
     "output_type": "execute_result"
    },
    {
     "data": {
      "image/png": "[encoded data removed]",
      "text/plain": [
       "<Figure size 576x288 with 1 Axes>"
      ]
     },
     "metadata": {},
     "output_type": "display_data"
    }
   ],
   "source": [
    "plt.figure(figsize=(8,4))\n",
    "sns.scatterplot(x='capacity_mw',y='primary_fuel',data=df)"
   ]
  },
  {
   "cell_type": "markdown",
   "id": "911f836f",
   "metadata": {},
   "source": [
    "# \n",
    "Coal is on max electrical generating capacity in megawatts"
   ]
  },
  {
   "cell_type": "code",
   "execution_count": 47,
   "id": "e3068944",
   "metadata": {},
   "outputs": [
    {
     "data": {
      "text/html": [
       "<div>\n",
       "<style scoped>\n",
       "    .dataframe tbody tr th:only-of-type {\n",
       "        vertical-align: middle;\n",
       "    }\n",
       "\n",
       "    .dataframe tbody tr th {\n",
       "        vertical-align: top;\n",
       "    }\n",
       "\n",
       "    .dataframe thead th {\n",
       "        text-align: right;\n",
       "    }\n",
       "</style>\n",
       "<table border=\"1\" class=\"dataframe\">\n",
       "  <thead>\n",
       "    <tr style=\"text-align: right;\">\n",
       "      <th></th>\n",
       "      <th>capacity_mw</th>\n",
       "      <th>latitude</th>\n",
       "      <th>longitude</th>\n",
       "      <th>primary_fuel</th>\n",
       "      <th>commissioning_year</th>\n",
       "      <th>source</th>\n",
       "      <th>geolocation_source</th>\n",
       "      <th>generation_gwh_2014</th>\n",
       "      <th>generation_gwh_2015</th>\n",
       "      <th>generation_gwh_2016</th>\n",
       "      <th>generation_gwh_2017</th>\n",
       "      <th>generation_gwh_2018</th>\n",
       "    </tr>\n",
       "  </thead>\n",
       "  <tbody>\n",
       "    <tr>\n",
       "      <th>0</th>\n",
       "      <td>9</td>\n",
       "      <td>730</td>\n",
       "      <td>144</td>\n",
       "      <td>6</td>\n",
       "      <td>66</td>\n",
       "      <td>109</td>\n",
       "      <td>1</td>\n",
       "      <td>20</td>\n",
       "      <td>33</td>\n",
       "      <td>29</td>\n",
       "      <td>28</td>\n",
       "      <td>22</td>\n",
       "    </tr>\n",
       "    <tr>\n",
       "      <th>1</th>\n",
       "      <td>177</td>\n",
       "      <td>593</td>\n",
       "      <td>235</td>\n",
       "      <td>1</td>\n",
       "      <td>0</td>\n",
       "      <td>174</td>\n",
       "      <td>2</td>\n",
       "      <td>20</td>\n",
       "      <td>33</td>\n",
       "      <td>29</td>\n",
       "      <td>28</td>\n",
       "      <td>22</td>\n",
       "    </tr>\n",
       "    <tr>\n",
       "      <th>2</th>\n",
       "      <td>121</td>\n",
       "      <td>419</td>\n",
       "      <td>9</td>\n",
       "      <td>7</td>\n",
       "      <td>0</td>\n",
       "      <td>21</td>\n",
       "      <td>2</td>\n",
       "      <td>20</td>\n",
       "      <td>33</td>\n",
       "      <td>29</td>\n",
       "      <td>28</td>\n",
       "      <td>22</td>\n",
       "    </tr>\n",
       "    <tr>\n",
       "      <th>3</th>\n",
       "      <td>200</td>\n",
       "      <td>546</td>\n",
       "      <td>806</td>\n",
       "      <td>2</td>\n",
       "      <td>59</td>\n",
       "      <td>22</td>\n",
       "      <td>2</td>\n",
       "      <td>157</td>\n",
       "      <td>197</td>\n",
       "      <td>198</td>\n",
       "      <td>177</td>\n",
       "      <td>175</td>\n",
       "    </tr>\n",
       "    <tr>\n",
       "      <th>4</th>\n",
       "      <td>340</td>\n",
       "      <td>422</td>\n",
       "      <td>702</td>\n",
       "      <td>1</td>\n",
       "      <td>70</td>\n",
       "      <td>22</td>\n",
       "      <td>2</td>\n",
       "      <td>272</td>\n",
       "      <td>349</td>\n",
       "      <td>360</td>\n",
       "      <td>339</td>\n",
       "      <td>374</td>\n",
       "    </tr>\n",
       "    <tr>\n",
       "      <th>...</th>\n",
       "      <td>...</td>\n",
       "      <td>...</td>\n",
       "      <td>...</td>\n",
       "      <td>...</td>\n",
       "      <td>...</td>\n",
       "      <td>...</td>\n",
       "      <td>...</td>\n",
       "      <td>...</td>\n",
       "      <td>...</td>\n",
       "      <td>...</td>\n",
       "      <td>...</td>\n",
       "      <td>...</td>\n",
       "    </tr>\n",
       "    <tr>\n",
       "      <th>902</th>\n",
       "      <td>336</td>\n",
       "      <td>176</td>\n",
       "      <td>481</td>\n",
       "      <td>1</td>\n",
       "      <td>71</td>\n",
       "      <td>22</td>\n",
       "      <td>2</td>\n",
       "      <td>20</td>\n",
       "      <td>3</td>\n",
       "      <td>100</td>\n",
       "      <td>194</td>\n",
       "      <td>183</td>\n",
       "    </tr>\n",
       "    <tr>\n",
       "      <th>903</th>\n",
       "      <td>10</td>\n",
       "      <td>104</td>\n",
       "      <td>553</td>\n",
       "      <td>6</td>\n",
       "      <td>0</td>\n",
       "      <td>77</td>\n",
       "      <td>0</td>\n",
       "      <td>20</td>\n",
       "      <td>33</td>\n",
       "      <td>29</td>\n",
       "      <td>28</td>\n",
       "      <td>22</td>\n",
       "    </tr>\n",
       "    <tr>\n",
       "      <th>904</th>\n",
       "      <td>81</td>\n",
       "      <td>151</td>\n",
       "      <td>312</td>\n",
       "      <td>7</td>\n",
       "      <td>0</td>\n",
       "      <td>21</td>\n",
       "      <td>2</td>\n",
       "      <td>20</td>\n",
       "      <td>33</td>\n",
       "      <td>29</td>\n",
       "      <td>28</td>\n",
       "      <td>22</td>\n",
       "    </tr>\n",
       "    <tr>\n",
       "      <th>905</th>\n",
       "      <td>167</td>\n",
       "      <td>571</td>\n",
       "      <td>168</td>\n",
       "      <td>1</td>\n",
       "      <td>0</td>\n",
       "      <td>59</td>\n",
       "      <td>2</td>\n",
       "      <td>20</td>\n",
       "      <td>33</td>\n",
       "      <td>29</td>\n",
       "      <td>28</td>\n",
       "      <td>22</td>\n",
       "    </tr>\n",
       "    <tr>\n",
       "      <th>906</th>\n",
       "      <td>56</td>\n",
       "      <td>32</td>\n",
       "      <td>495</td>\n",
       "      <td>7</td>\n",
       "      <td>0</td>\n",
       "      <td>21</td>\n",
       "      <td>2</td>\n",
       "      <td>20</td>\n",
       "      <td>33</td>\n",
       "      <td>29</td>\n",
       "      <td>28</td>\n",
       "      <td>22</td>\n",
       "    </tr>\n",
       "  </tbody>\n",
       "</table>\n",
       "<p>907 rows × 12 columns</p>\n",
       "</div>"
      ],
      "text/plain": [
       "     capacity_mw  latitude  longitude  primary_fuel  commissioning_year  \\\n",
       "0              9       730        144             6                  66   \n",
       "1            177       593        235             1                   0   \n",
       "2            121       419          9             7                   0   \n",
       "3            200       546        806             2                  59   \n",
       "4            340       422        702             1                  70   \n",
       "..           ...       ...        ...           ...                 ...   \n",
       "902          336       176        481             1                  71   \n",
       "903           10       104        553             6                   0   \n",
       "904           81       151        312             7                   0   \n",
       "905          167       571        168             1                   0   \n",
       "906           56        32        495             7                   0   \n",
       "\n",
       "     source  geolocation_source  generation_gwh_2014  generation_gwh_2015  \\\n",
       "0       109                   1                   20                   33   \n",
       "1       174                   2                   20                   33   \n",
       "2        21                   2                   20                   33   \n",
       "3        22                   2                  157                  197   \n",
       "4        22                   2                  272                  349   \n",
       "..      ...                 ...                  ...                  ...   \n",
       "902      22                   2                   20                    3   \n",
       "903      77                   0                   20                   33   \n",
       "904      21                   2                   20                   33   \n",
       "905      59                   2                   20                   33   \n",
       "906      21                   2                   20                   33   \n",
       "\n",
       "     generation_gwh_2016  generation_gwh_2017  generation_gwh_2018  \n",
       "0                     29                   28                   22  \n",
       "1                     29                   28                   22  \n",
       "2                     29                   28                   22  \n",
       "3                    198                  177                  175  \n",
       "4                    360                  339                  374  \n",
       "..                   ...                  ...                  ...  \n",
       "902                  100                  194                  183  \n",
       "903                   29                   28                   22  \n",
       "904                   29                   28                   22  \n",
       "905                   29                   28                   22  \n",
       "906                   29                   28                   22  \n",
       "\n",
       "[907 rows x 12 columns]"
      ]
     },
     "execution_count": 47,
     "metadata": {},
     "output_type": "execute_result"
    }
   ],
   "source": [
    "df = df.apply(LabelEncoder().fit_transform)\n",
    "df"
   ]
  },
  {
   "cell_type": "code",
   "execution_count": 48,
   "id": "bf53f57c",
   "metadata": {},
   "outputs": [
    {
     "data": {
      "image/png": "[encoded data removed]",
      "text/plain": [
       "<Figure size 1296x1440 with 12 Axes>"
      ]
     },
     "metadata": {},
     "output_type": "display_data"
    }
   ],
   "source": [
    "plt.figure(figsize=(18,20))\n",
    "for i in enumerate(df):\n",
    "    plt.subplot(8,4,i[0]+1)\n",
    "    sns.distplot(df[i[1]],color='g')"
   ]
  },
  {
   "cell_type": "code",
   "execution_count": 49,
   "id": "334d3e02",
   "metadata": {},
   "outputs": [],
   "source": [
    "x=df.drop('primary_fuel', axis=1)\n",
    "y=df['primary_fuel']"
   ]
  },
  {
   "cell_type": "code",
   "execution_count": 50,
   "id": "83ad2682",
   "metadata": {},
   "outputs": [
    {
     "data": {
      "text/plain": [
       "capacity_mw            0.240003\n",
       "latitude              -0.006452\n",
       "longitude              0.034221\n",
       "commissioning_year     0.104882\n",
       "source                 1.827373\n",
       "geolocation_source    -2.159841\n",
       "generation_gwh_2014    1.301627\n",
       "generation_gwh_2015    1.237701\n",
       "generation_gwh_2016    1.186540\n",
       "generation_gwh_2017    1.174265\n",
       "generation_gwh_2018    1.147983\n",
       "dtype: float64"
      ]
     },
     "execution_count": 50,
     "metadata": {},
     "output_type": "execute_result"
    }
   ],
   "source": [
    "x.skew()"
   ]
  },
  {
   "cell_type": "markdown",
   "id": "def0a96f",
   "metadata": {},
   "source": [
    "# \n",
    "The skewness present in Gender,Married,Dependents,Education,Self_Employed,CoapplicantIncome,Loan_Amount_Term,Credit_History,Property_Area the above columns\n",
    "skewness more than+/- 0.5 will we treated\n",
    "object columns will no be treated"
   ]
  },
  {
   "cell_type": "code",
   "execution_count": 51,
   "id": "e22b6475",
   "metadata": {},
   "outputs": [],
   "source": [
    "x_new=power_transform(x)\n",
    "\n",
    "x=pd.DataFrame(x_new,columns=x.columns)"
   ]
  },
  {
   "cell_type": "code",
   "execution_count": 52,
   "id": "de54fdde",
   "metadata": {},
   "outputs": [
    {
     "data": {
      "text/plain": [
       "capacity_mw           -0.244410\n",
       "latitude              -0.290936\n",
       "longitude             -0.443621\n",
       "commissioning_year    -0.205771\n",
       "source                -0.214066\n",
       "geolocation_source    -2.132728\n",
       "generation_gwh_2014    0.002473\n",
       "generation_gwh_2015    0.023472\n",
       "generation_gwh_2016    0.008166\n",
       "generation_gwh_2017    0.003520\n",
       "generation_gwh_2018   -0.010287\n",
       "dtype: float64"
      ]
     },
     "execution_count": 52,
     "metadata": {},
     "output_type": "execute_result"
    }
   ],
   "source": [
    "x.skew()"
   ]
  },
  {
   "cell_type": "markdown",
   "id": "518405b3",
   "metadata": {},
   "source": [
    "# \n",
    "The data is almost normal also we have removed the skewness that we can notice in the above"
   ]
  },
  {
   "cell_type": "code",
   "execution_count": 53,
   "id": "93859aee",
   "metadata": {},
   "outputs": [
    {
     "data": {
      "image/png": "[encoded data removed]",
      "text/plain": [
       "<Figure size 2880x1440 with 1 Axes>"
      ]
     },
     "metadata": {},
     "output_type": "display_data"
    }
   ],
   "source": [
    "x.iloc[:,0:22].boxplot(figsize=[40,20])\n",
    "plt.subplots_adjust(bottom=0.25)\n",
    "plt.show()"
   ]
  },
  {
   "cell_type": "code",
   "execution_count": 54,
   "id": "28502368",
   "metadata": {},
   "outputs": [
    {
     "data": {
      "text/plain": [
       "(array([ 71,  80, 191, 299, 321, 345, 661, 669, 689, 832, 870, 871, 879,\n",
       "        895, 900], dtype=int64),\n",
       " array([5, 5, 5, 5, 5, 5, 5, 5, 5, 5, 5, 5, 5, 5, 5], dtype=int64))"
      ]
     },
     "execution_count": 54,
     "metadata": {},
     "output_type": "execute_result"
    }
   ],
   "source": [
    "z=np.abs(zscore(df))\n",
    "threshold=3\n",
    "np.where(z>3)"
   ]
  },
  {
   "cell_type": "code",
   "execution_count": 55,
   "id": "39d59ce5",
   "metadata": {},
   "outputs": [
    {
     "data": {
      "text/html": [
       "<div>\n",
       "<style scoped>\n",
       "    .dataframe tbody tr th:only-of-type {\n",
       "        vertical-align: middle;\n",
       "    }\n",
       "\n",
       "    .dataframe tbody tr th {\n",
       "        vertical-align: top;\n",
       "    }\n",
       "\n",
       "    .dataframe thead th {\n",
       "        text-align: right;\n",
       "    }\n",
       "</style>\n",
       "<table border=\"1\" class=\"dataframe\">\n",
       "  <thead>\n",
       "    <tr style=\"text-align: right;\">\n",
       "      <th></th>\n",
       "      <th>capacity_mw</th>\n",
       "      <th>latitude</th>\n",
       "      <th>longitude</th>\n",
       "      <th>primary_fuel</th>\n",
       "      <th>commissioning_year</th>\n",
       "      <th>source</th>\n",
       "      <th>geolocation_source</th>\n",
       "      <th>generation_gwh_2014</th>\n",
       "      <th>generation_gwh_2015</th>\n",
       "      <th>generation_gwh_2016</th>\n",
       "      <th>generation_gwh_2017</th>\n",
       "      <th>generation_gwh_2018</th>\n",
       "    </tr>\n",
       "  </thead>\n",
       "  <tbody>\n",
       "    <tr>\n",
       "      <th>0</th>\n",
       "      <td>9</td>\n",
       "      <td>730</td>\n",
       "      <td>144</td>\n",
       "      <td>6</td>\n",
       "      <td>66</td>\n",
       "      <td>109</td>\n",
       "      <td>1</td>\n",
       "      <td>20</td>\n",
       "      <td>33</td>\n",
       "      <td>29</td>\n",
       "      <td>28</td>\n",
       "      <td>22</td>\n",
       "    </tr>\n",
       "    <tr>\n",
       "      <th>1</th>\n",
       "      <td>177</td>\n",
       "      <td>593</td>\n",
       "      <td>235</td>\n",
       "      <td>1</td>\n",
       "      <td>0</td>\n",
       "      <td>174</td>\n",
       "      <td>2</td>\n",
       "      <td>20</td>\n",
       "      <td>33</td>\n",
       "      <td>29</td>\n",
       "      <td>28</td>\n",
       "      <td>22</td>\n",
       "    </tr>\n",
       "    <tr>\n",
       "      <th>2</th>\n",
       "      <td>121</td>\n",
       "      <td>419</td>\n",
       "      <td>9</td>\n",
       "      <td>7</td>\n",
       "      <td>0</td>\n",
       "      <td>21</td>\n",
       "      <td>2</td>\n",
       "      <td>20</td>\n",
       "      <td>33</td>\n",
       "      <td>29</td>\n",
       "      <td>28</td>\n",
       "      <td>22</td>\n",
       "    </tr>\n",
       "    <tr>\n",
       "      <th>3</th>\n",
       "      <td>200</td>\n",
       "      <td>546</td>\n",
       "      <td>806</td>\n",
       "      <td>2</td>\n",
       "      <td>59</td>\n",
       "      <td>22</td>\n",
       "      <td>2</td>\n",
       "      <td>157</td>\n",
       "      <td>197</td>\n",
       "      <td>198</td>\n",
       "      <td>177</td>\n",
       "      <td>175</td>\n",
       "    </tr>\n",
       "    <tr>\n",
       "      <th>4</th>\n",
       "      <td>340</td>\n",
       "      <td>422</td>\n",
       "      <td>702</td>\n",
       "      <td>1</td>\n",
       "      <td>70</td>\n",
       "      <td>22</td>\n",
       "      <td>2</td>\n",
       "      <td>272</td>\n",
       "      <td>349</td>\n",
       "      <td>360</td>\n",
       "      <td>339</td>\n",
       "      <td>374</td>\n",
       "    </tr>\n",
       "    <tr>\n",
       "      <th>...</th>\n",
       "      <td>...</td>\n",
       "      <td>...</td>\n",
       "      <td>...</td>\n",
       "      <td>...</td>\n",
       "      <td>...</td>\n",
       "      <td>...</td>\n",
       "      <td>...</td>\n",
       "      <td>...</td>\n",
       "      <td>...</td>\n",
       "      <td>...</td>\n",
       "      <td>...</td>\n",
       "      <td>...</td>\n",
       "    </tr>\n",
       "    <tr>\n",
       "      <th>902</th>\n",
       "      <td>336</td>\n",
       "      <td>176</td>\n",
       "      <td>481</td>\n",
       "      <td>1</td>\n",
       "      <td>71</td>\n",
       "      <td>22</td>\n",
       "      <td>2</td>\n",
       "      <td>20</td>\n",
       "      <td>3</td>\n",
       "      <td>100</td>\n",
       "      <td>194</td>\n",
       "      <td>183</td>\n",
       "    </tr>\n",
       "    <tr>\n",
       "      <th>903</th>\n",
       "      <td>10</td>\n",
       "      <td>104</td>\n",
       "      <td>553</td>\n",
       "      <td>6</td>\n",
       "      <td>0</td>\n",
       "      <td>77</td>\n",
       "      <td>0</td>\n",
       "      <td>20</td>\n",
       "      <td>33</td>\n",
       "      <td>29</td>\n",
       "      <td>28</td>\n",
       "      <td>22</td>\n",
       "    </tr>\n",
       "    <tr>\n",
       "      <th>904</th>\n",
       "      <td>81</td>\n",
       "      <td>151</td>\n",
       "      <td>312</td>\n",
       "      <td>7</td>\n",
       "      <td>0</td>\n",
       "      <td>21</td>\n",
       "      <td>2</td>\n",
       "      <td>20</td>\n",
       "      <td>33</td>\n",
       "      <td>29</td>\n",
       "      <td>28</td>\n",
       "      <td>22</td>\n",
       "    </tr>\n",
       "    <tr>\n",
       "      <th>905</th>\n",
       "      <td>167</td>\n",
       "      <td>571</td>\n",
       "      <td>168</td>\n",
       "      <td>1</td>\n",
       "      <td>0</td>\n",
       "      <td>59</td>\n",
       "      <td>2</td>\n",
       "      <td>20</td>\n",
       "      <td>33</td>\n",
       "      <td>29</td>\n",
       "      <td>28</td>\n",
       "      <td>22</td>\n",
       "    </tr>\n",
       "    <tr>\n",
       "      <th>906</th>\n",
       "      <td>56</td>\n",
       "      <td>32</td>\n",
       "      <td>495</td>\n",
       "      <td>7</td>\n",
       "      <td>0</td>\n",
       "      <td>21</td>\n",
       "      <td>2</td>\n",
       "      <td>20</td>\n",
       "      <td>33</td>\n",
       "      <td>29</td>\n",
       "      <td>28</td>\n",
       "      <td>22</td>\n",
       "    </tr>\n",
       "  </tbody>\n",
       "</table>\n",
       "<p>892 rows × 12 columns</p>\n",
       "</div>"
      ],
      "text/plain": [
       "     capacity_mw  latitude  longitude  primary_fuel  commissioning_year  \\\n",
       "0              9       730        144             6                  66   \n",
       "1            177       593        235             1                   0   \n",
       "2            121       419          9             7                   0   \n",
       "3            200       546        806             2                  59   \n",
       "4            340       422        702             1                  70   \n",
       "..           ...       ...        ...           ...                 ...   \n",
       "902          336       176        481             1                  71   \n",
       "903           10       104        553             6                   0   \n",
       "904           81       151        312             7                   0   \n",
       "905          167       571        168             1                   0   \n",
       "906           56        32        495             7                   0   \n",
       "\n",
       "     source  geolocation_source  generation_gwh_2014  generation_gwh_2015  \\\n",
       "0       109                   1                   20                   33   \n",
       "1       174                   2                   20                   33   \n",
       "2        21                   2                   20                   33   \n",
       "3        22                   2                  157                  197   \n",
       "4        22                   2                  272                  349   \n",
       "..      ...                 ...                  ...                  ...   \n",
       "902      22                   2                   20                    3   \n",
       "903      77                   0                   20                   33   \n",
       "904      21                   2                   20                   33   \n",
       "905      59                   2                   20                   33   \n",
       "906      21                   2                   20                   33   \n",
       "\n",
       "     generation_gwh_2016  generation_gwh_2017  generation_gwh_2018  \n",
       "0                     29                   28                   22  \n",
       "1                     29                   28                   22  \n",
       "2                     29                   28                   22  \n",
       "3                    198                  177                  175  \n",
       "4                    360                  339                  374  \n",
       "..                   ...                  ...                  ...  \n",
       "902                  100                  194                  183  \n",
       "903                   29                   28                   22  \n",
       "904                   29                   28                   22  \n",
       "905                   29                   28                   22  \n",
       "906                   29                   28                   22  \n",
       "\n",
       "[892 rows x 12 columns]"
      ]
     },
     "execution_count": 55,
     "metadata": {},
     "output_type": "execute_result"
    }
   ],
   "source": [
    "df_new_z=df[(z<3).all(axis=1)] \n",
    "df_new_z"
   ]
  },
  {
   "cell_type": "code",
   "execution_count": 56,
   "id": "acd54b3b",
   "metadata": {},
   "outputs": [
    {
     "data": {
      "text/plain": [
       "(892, 12)"
      ]
     },
     "execution_count": 56,
     "metadata": {},
     "output_type": "execute_result"
    }
   ],
   "source": [
    "df_new_z.shape"
   ]
  },
  {
   "cell_type": "code",
   "execution_count": 57,
   "id": "81b7af21",
   "metadata": {},
   "outputs": [
    {
     "data": {
      "text/plain": [
       "2.44299674267101"
      ]
     },
     "execution_count": 57,
     "metadata": {},
     "output_type": "execute_result"
    }
   ],
   "source": [
    "data_loss = (907-892)/614*100\n",
    "data_loss"
   ]
  },
  {
   "cell_type": "code",
   "execution_count": null,
   "id": "e130df61",
   "metadata": {},
   "outputs": [],
   "source": []
  },
  {
   "cell_type": "code",
   "execution_count": 96,
   "id": "22522b96",
   "metadata": {},
   "outputs": [
    {
     "name": "stdout",
     "output_type": "stream",
     "text": [
      "Best accuracy is 0.7692307692307693 on Random_state 0\n"
     ]
    }
   ],
   "source": [
    "maxAccu=0\n",
    "maxRS=0\n",
    "for i in range(0,21):\n",
    "    x_train, x_test, y_train, y_test = train_test_split(x,y,test_size=.20, random_state =i)\n",
    "    LR = LogisticRegression()\n",
    "    LR.fit(x_train, y_train)\n",
    "    predrf = LR.predict(x_test)\n",
    "    acc=accuracy_score(y_test, predrf)\n",
    "    if acc>maxAccu:\n",
    "        maxAccu=acc\n",
    "        maxRS=i\n",
    "print(\"Best accuracy is\",maxAccu,\"on Random_state\",maxRS)  "
   ]
  },
  {
   "cell_type": "code",
   "execution_count": 97,
   "id": "4a7a2d41",
   "metadata": {},
   "outputs": [],
   "source": [
    "x_train, x_test, y_train, y_test = train_test_split(x,y,test_size = .20, random_state = 7)"
   ]
  },
  {
   "cell_type": "code",
   "execution_count": 98,
   "id": "2d865ee1",
   "metadata": {},
   "outputs": [
    {
     "name": "stdout",
     "output_type": "stream",
     "text": [
      "Accuracy 70.87912087912088\n",
      "[[ 5  0  0  0  0  0  0  2]\n",
      " [ 3 44  1  9  0  1  0  3]\n",
      " [ 0  8  0  4  0  4  0  0]\n",
      " [ 0 11  0 39  0  0  0  1]\n",
      " [ 0  1  0  0  0  0  0  0]\n",
      " [ 0  1  1  1  0  1  0  1]\n",
      " [ 0  0  0  0  0  0 25  0]\n",
      " [ 0  1  0  0  0  0  0 15]]\n",
      "              precision    recall  f1-score   support\n",
      "\n",
      "           0       0.62      0.71      0.67         7\n",
      "           1       0.67      0.72      0.69        61\n",
      "           2       0.00      0.00      0.00        16\n",
      "           3       0.74      0.76      0.75        51\n",
      "           4       0.00      0.00      0.00         1\n",
      "           5       0.17      0.20      0.18         5\n",
      "           6       1.00      1.00      1.00        25\n",
      "           7       0.68      0.94      0.79        16\n",
      "\n",
      "    accuracy                           0.71       182\n",
      "   macro avg       0.48      0.54      0.51       182\n",
      "weighted avg       0.66      0.71      0.68       182\n",
      "\n"
     ]
    }
   ],
   "source": [
    "LR = LogisticRegression()\n",
    "LR.fit(x_train, y_train)\n",
    "predlr = LR.predict(x_test)\n",
    "print(\"Accuracy\",accuracy_score(y_test, predlr)*100)\n",
    "print(confusion_matrix(y_test,predlr))\n",
    "print(classification_report(y_test,predlr))"
   ]
  },
  {
   "cell_type": "code",
   "execution_count": 99,
   "id": "f2eab83f",
   "metadata": {},
   "outputs": [
    {
     "name": "stdout",
     "output_type": "stream",
     "text": [
      "Accuracy 81.86813186813187\n",
      "[[ 7  0  0  0  0  0  0  0]\n",
      " [ 3 49  3  5  1  0  0  0]\n",
      " [ 0  5  6  3  0  2  0  0]\n",
      " [ 0  2  5 44  0  0  0  0]\n",
      " [ 0  1  0  0  0  0  0  0]\n",
      " [ 0  1  1  1  0  2  0  0]\n",
      " [ 0  0  0  0  0  0 25  0]\n",
      " [ 0  0  0  0  0  0  0 16]]\n",
      "              precision    recall  f1-score   support\n",
      "\n",
      "           0       0.70      1.00      0.82         7\n",
      "           1       0.84      0.80      0.82        61\n",
      "           2       0.40      0.38      0.39        16\n",
      "           3       0.83      0.86      0.85        51\n",
      "           4       0.00      0.00      0.00         1\n",
      "           5       0.50      0.40      0.44         5\n",
      "           6       1.00      1.00      1.00        25\n",
      "           7       1.00      1.00      1.00        16\n",
      "\n",
      "    accuracy                           0.82       182\n",
      "   macro avg       0.66      0.68      0.67       182\n",
      "weighted avg       0.82      0.82      0.82       182\n",
      "\n"
     ]
    }
   ],
   "source": [
    "dt = DecisionTreeClassifier()\n",
    "dt.fit(x_train, y_train)\n",
    "preddt = dt.predict(x_test)\n",
    "print(\"Accuracy\",accuracy_score(y_test, preddt)*100)\n",
    "print(confusion_matrix(y_test,preddt))\n",
    "print(classification_report(y_test,preddt))"
   ]
  },
  {
   "cell_type": "code",
   "execution_count": 100,
   "id": "63ccc70c",
   "metadata": {},
   "outputs": [
    {
     "name": "stdout",
     "output_type": "stream",
     "text": [
      "Accuracy 84.06593406593407\n",
      "[[ 4  2  0  0  0  0  0  1]\n",
      " [ 1 54  1  4  0  0  0  1]\n",
      " [ 0  6  3  5  0  2  0  0]\n",
      " [ 0  1  0 50  0  0  0  0]\n",
      " [ 0  1  0  0  0  0  0  0]\n",
      " [ 0  1  2  1  0  1  0  0]\n",
      " [ 0  0  0  0  0  0 25  0]\n",
      " [ 0  0  0  0  0  0  0 16]]\n",
      "              precision    recall  f1-score   support\n",
      "\n",
      "           0       0.80      0.57      0.67         7\n",
      "           1       0.83      0.89      0.86        61\n",
      "           2       0.50      0.19      0.27        16\n",
      "           3       0.83      0.98      0.90        51\n",
      "           4       0.00      0.00      0.00         1\n",
      "           5       0.33      0.20      0.25         5\n",
      "           6       1.00      1.00      1.00        25\n",
      "           7       0.89      1.00      0.94        16\n",
      "\n",
      "    accuracy                           0.84       182\n",
      "   macro avg       0.65      0.60      0.61       182\n",
      "weighted avg       0.81      0.84      0.82       182\n",
      "\n"
     ]
    }
   ],
   "source": [
    "rf = RandomForestClassifier()\n",
    "rf.fit(x_train, y_train)\n",
    "predrf = rf.predict(x_test)\n",
    "print(\"Accuracy\",accuracy_score(y_test, predrf)*100)\n",
    "print(confusion_matrix(y_test,predrf))\n",
    "print(classification_report(y_test,predrf))"
   ]
  },
  {
   "cell_type": "code",
   "execution_count": 101,
   "id": "e5133155",
   "metadata": {},
   "outputs": [
    {
     "name": "stdout",
     "output_type": "stream",
     "text": [
      "Accuracy 78.02197802197803\n",
      "[[ 3  2  0  0  0  0  0  2]\n",
      " [ 4 50  1  4  0  0  0  2]\n",
      " [ 0 12  0  3  0  1  0  0]\n",
      " [ 0  2  0 47  0  0  0  2]\n",
      " [ 0  1  0  0  0  0  0  0]\n",
      " [ 0  1  1  1  0  1  0  1]\n",
      " [ 0  0  0  0  0  0 25  0]\n",
      " [ 0  0  0  0  0  0  0 16]]\n",
      "              precision    recall  f1-score   support\n",
      "\n",
      "           0       0.43      0.43      0.43         7\n",
      "           1       0.74      0.82      0.78        61\n",
      "           2       0.00      0.00      0.00        16\n",
      "           3       0.85      0.92      0.89        51\n",
      "           4       0.00      0.00      0.00         1\n",
      "           5       0.50      0.20      0.29         5\n",
      "           6       1.00      1.00      1.00        25\n",
      "           7       0.70      1.00      0.82        16\n",
      "\n",
      "    accuracy                           0.78       182\n",
      "   macro avg       0.53      0.55      0.52       182\n",
      "weighted avg       0.71      0.78      0.74       182\n",
      "\n"
     ]
    }
   ],
   "source": [
    "svc = SVC()\n",
    "svc.fit(x_train,y_train)\n",
    "\n",
    "ad_pred = svc.predict(x_test)\n",
    "print(\"Accuracy\",accuracy_score(y_test, ad_pred)*100)\n",
    "print(confusion_matrix(y_test,ad_pred))\n",
    "print(classification_report(y_test,ad_pred))"
   ]
  },
  {
   "cell_type": "code",
   "execution_count": 102,
   "id": "75778338",
   "metadata": {},
   "outputs": [
    {
     "name": "stdout",
     "output_type": "stream",
     "text": [
      "cross validation score of Logistic Regression model : 0.7375872746038492\n"
     ]
    }
   ],
   "source": [
    "scr=cross_val_score(LR, x, y, cv=5)\n",
    "print(\"cross validation score of Logistic Regression model :\",scr.mean())"
   ]
  },
  {
   "cell_type": "code",
   "execution_count": 103,
   "id": "3d1a6122",
   "metadata": {},
   "outputs": [
    {
     "name": "stdout",
     "output_type": "stream",
     "text": [
      "cross validation score of Random Forest model : 0.8544836379090522\n"
     ]
    }
   ],
   "source": [
    "scr=cross_val_score(rf, x, y, cv=5)\n",
    "print(\"cross validation score of Random Forest model :\",scr.mean())"
   ]
  },
  {
   "cell_type": "code",
   "execution_count": 104,
   "id": "71c08595",
   "metadata": {},
   "outputs": [
    {
     "name": "stdout",
     "output_type": "stream",
     "text": [
      "cross validation score of SVC model : 0.8026835043409628\n"
     ]
    }
   ],
   "source": [
    "scr=cross_val_score(svc, x, y, cv=5)\n",
    "print(\"cross validation score of SVC model :\",scr.mean())"
   ]
  },
  {
   "cell_type": "code",
   "execution_count": 105,
   "id": "203291eb",
   "metadata": {},
   "outputs": [],
   "source": [
    "parameters = {'max_features': ['auto', 'sqrt', 'log2'],\n",
    "             'max_depth' : [4,5,6,7,8],\n",
    "             'criterion' :['gini' , 'entropy']}"
   ]
  },
  {
   "cell_type": "code",
   "execution_count": 106,
   "id": "adca5a96",
   "metadata": {},
   "outputs": [
    {
     "data": {
      "text/plain": [
       "{'criterion': 'entropy', 'max_depth': 8, 'max_features': 'sqrt'}"
      ]
     },
     "execution_count": 106,
     "metadata": {},
     "output_type": "execute_result"
    }
   ],
   "source": [
    "GCV=GridSearchCV(RandomForestClassifier(),parameters,cv=5,scoring=\"accuracy\")\n",
    "GCV.fit(x_train,y_train)\n",
    "GCV.best_params_"
   ]
  },
  {
   "cell_type": "code",
   "execution_count": 107,
   "id": "5d937598",
   "metadata": {},
   "outputs": [
    {
     "name": "stdout",
     "output_type": "stream",
     "text": [
      "78.57142857142857\n"
     ]
    }
   ],
   "source": [
    "Final_mod=DecisionTreeClassifier(criterion='entropy',max_depth=39, max_features='log2')\n",
    "Final_mod.fit(x_train,y_train)\n",
    "pred=Final_mod.predict(x_test)\n",
    "acc=accuracy_score(y_test, pred)\n",
    "\n",
    "print(acc*100)"
   ]
  },
  {
   "cell_type": "code",
   "execution_count": 108,
   "id": "45182c82",
   "metadata": {},
   "outputs": [
    {
     "data": {
      "text/plain": [
       "0.8461538461538461"
      ]
     },
     "execution_count": 108,
     "metadata": {},
     "output_type": "execute_result"
    }
   ],
   "source": [
    "GCV_pred=GCV.best_estimator_.predict(x_test)\n",
    "accuracy_score(y_test,GCV_pred)"
   ]
  },
  {
   "cell_type": "code",
   "execution_count": 110,
   "id": "6cc91e12",
   "metadata": {},
   "outputs": [],
   "source": [
    "x=df.drop('capacity_mw', axis=1)\n",
    "y=df['capacity_mw']"
   ]
  },
  {
   "cell_type": "code",
   "execution_count": null,
   "id": "89d44d78",
   "metadata": {},
   "outputs": [],
   "source": []
  },
  {
   "cell_type": "code",
   "execution_count": 135,
   "id": "aaddd5cb",
   "metadata": {},
   "outputs": [
    {
     "data": {
      "text/plain": [
       "19     39\n",
       "36     22\n",
       "279    20\n",
       "52     20\n",
       "319    19\n",
       "       ..\n",
       "158     1\n",
       "159     1\n",
       "162     1\n",
       "164     1\n",
       "360     1\n",
       "Name: capacity_mw, Length: 361, dtype: int64"
      ]
     },
     "execution_count": 135,
     "metadata": {},
     "output_type": "execute_result"
    }
   ],
   "source": [
    "y.value_counts()"
   ]
  },
  {
   "cell_type": "code",
   "execution_count": 116,
   "id": "9638c921",
   "metadata": {},
   "outputs": [
    {
     "name": "stdout",
     "output_type": "stream",
     "text": [
      "Best accuracy is 0.11538461538461539 on Random_state 37\n"
     ]
    }
   ],
   "source": [
    "maxAccu=0\n",
    "maxRS=0\n",
    "for i in range(0,100):\n",
    "    x_train, x_test, y_train, y_test = train_test_split(x,y,test_size=.20, random_state =i)\n",
    "    LR = LogisticRegression()\n",
    "    LR.fit(x_train, y_train)\n",
    "    predrf = LR.predict(x_test)\n",
    "    acc=accuracy_score(y_test, predrf)\n",
    "    if acc>maxAccu:\n",
    "        maxAccu=acc\n",
    "        maxRS=i\n",
    "print(\"Best accuracy is\",maxAccu,\"on Random_state\",maxRS)  "
   ]
  },
  {
   "cell_type": "code",
   "execution_count": 117,
   "id": "dcde0e35",
   "metadata": {},
   "outputs": [],
   "source": [
    "x_train, x_test, y_train, y_test = train_test_split(x,y,test_size = .20, random_state = 37)"
   ]
  },
  {
   "cell_type": "code",
   "execution_count": 118,
   "id": "b621d84d",
   "metadata": {},
   "outputs": [
    {
     "name": "stdout",
     "output_type": "stream",
     "text": [
      "Accuracy 11.538461538461538\n",
      "[[0 0 0 ... 0 0 0]\n",
      " [0 0 0 ... 0 0 0]\n",
      " [0 0 0 ... 0 0 0]\n",
      " ...\n",
      " [0 0 0 ... 0 0 0]\n",
      " [0 0 0 ... 0 0 0]\n",
      " [0 0 0 ... 0 0 0]]\n",
      "              precision    recall  f1-score   support\n",
      "\n",
      "           1       0.00      0.00      0.00         4\n",
      "           2       0.00      0.00      0.00         1\n",
      "           4       0.00      0.00      0.00         1\n",
      "           5       0.00      0.00      0.00         1\n",
      "           6       0.00      0.00      0.00         1\n",
      "           9       0.00      0.00      0.00         1\n",
      "          10       0.00      0.00      0.00         1\n",
      "          12       0.00      0.00      0.00         1\n",
      "          14       0.00      0.00      0.00         4\n",
      "          19       0.41      0.90      0.56        10\n",
      "          22       0.00      0.00      0.00         2\n",
      "          23       0.00      0.00      0.00         1\n",
      "          29       0.00      0.00      0.00         1\n",
      "          30       0.00      0.00      0.00         1\n",
      "          31       0.33      0.33      0.33         3\n",
      "          35       0.00      0.00      0.00         1\n",
      "          36       0.15      0.33      0.21         6\n",
      "          38       0.00      0.00      0.00         3\n",
      "          42       0.00      0.00      0.00         2\n",
      "          44       0.00      0.00      0.00         1\n",
      "          49       0.00      0.00      0.00         1\n",
      "          50       0.00      0.00      0.00         1\n",
      "          54       0.00      0.00      0.00         1\n",
      "          55       0.50      0.50      0.50         2\n",
      "          56       0.00      0.00      0.00         3\n",
      "          61       0.00      0.00      0.00         1\n",
      "          63       0.00      0.00      0.00         1\n",
      "          67       0.00      0.00      0.00         2\n",
      "          73       0.00      0.00      0.00         2\n",
      "          74       0.00      0.00      0.00         1\n",
      "          75       0.00      0.00      0.00         1\n",
      "          77       0.00      0.00      0.00         4\n",
      "          79       0.00      0.00      0.00         1\n",
      "          82       0.00      0.00      0.00         1\n",
      "          85       0.00      0.00      0.00         1\n",
      "          86       0.00      0.00      0.00         1\n",
      "          87       0.00      0.00      0.00         1\n",
      "          94       0.00      0.00      0.00         1\n",
      "          96       0.00      0.00      0.00         1\n",
      "          99       0.00      0.00      0.00         1\n",
      "         103       0.00      0.00      0.00         1\n",
      "         106       0.00      0.00      0.00         1\n",
      "         111       0.00      0.00      0.00         1\n",
      "         112       0.00      0.00      0.00         1\n",
      "         114       0.00      0.00      0.00         0\n",
      "         121       0.00      0.00      0.00         1\n",
      "         122       0.00      0.00      0.00         1\n",
      "         129       0.00      0.00      0.00         3\n",
      "         130       0.00      0.00      0.00         1\n",
      "         131       0.00      0.00      0.00         1\n",
      "         134       0.00      0.00      0.00         1\n",
      "         135       0.00      0.00      0.00         4\n",
      "         136       0.09      1.00      0.16         2\n",
      "         143       0.00      0.00      0.00         1\n",
      "         146       0.00      0.00      0.00         4\n",
      "         148       0.00      0.00      0.00         1\n",
      "         158       0.00      0.00      0.00         1\n",
      "         159       0.00      0.00      0.00         1\n",
      "         165       0.00      0.00      0.00         0\n",
      "         166       0.00      0.00      0.00         1\n",
      "         170       0.00      0.00      0.00         3\n",
      "         173       0.00      0.00      0.00         1\n",
      "         175       0.00      0.00      0.00         0\n",
      "         180       0.00      0.00      0.00         3\n",
      "         184       0.00      0.00      0.00         1\n",
      "         185       0.00      0.00      0.00         0\n",
      "         186       0.00      0.00      0.00         1\n",
      "         187       0.00      0.00      0.00         0\n",
      "         188       0.00      0.00      0.00         1\n",
      "         189       0.00      0.00      0.00         1\n",
      "         194       0.00      0.00      0.00         1\n",
      "         200       0.00      0.00      0.00         1\n",
      "         204       0.00      0.00      0.00         0\n",
      "         208       0.00      0.00      0.00         1\n",
      "         214       0.00      0.00      0.00         1\n",
      "         218       0.00      0.00      0.00         1\n",
      "         225       0.00      0.00      0.00         1\n",
      "         230       0.00      0.00      0.00         2\n",
      "         232       0.00      0.00      0.00         2\n",
      "         234       0.00      0.00      0.00         0\n",
      "         236       0.00      0.00      0.00         1\n",
      "         237       0.00      0.00      0.00         1\n",
      "         238       0.00      0.00      0.00         1\n",
      "         240       0.00      0.00      0.00         2\n",
      "         241       0.00      0.00      0.00         1\n",
      "         244       0.00      0.00      0.00         0\n",
      "         248       0.00      0.00      0.00         1\n",
      "         253       0.00      0.00      0.00         1\n",
      "         254       0.00      0.00      0.00         1\n",
      "         261       0.00      0.00      0.00         2\n",
      "         265       0.00      0.00      0.00         0\n",
      "         266       0.00      0.00      0.00         1\n",
      "         272       0.00      0.00      0.00         3\n",
      "         273       0.00      0.00      0.00         1\n",
      "         275       0.00      0.00      0.00         1\n",
      "         276       0.00      0.00      0.00         1\n",
      "         278       0.00      0.00      0.00         1\n",
      "         279       0.14      0.33      0.20         6\n",
      "         281       0.00      0.00      0.00         1\n",
      "         291       0.00      0.00      0.00         1\n",
      "         292       0.00      0.00      0.00         2\n",
      "         295       0.00      0.00      0.00         0\n",
      "         297       0.00      0.00      0.00         1\n",
      "         307       0.00      0.00      0.00         1\n",
      "         308       0.00      0.00      0.00         3\n",
      "         310       0.00      0.00      0.00         1\n",
      "         311       0.00      0.00      0.00         1\n",
      "         312       0.00      0.00      0.00         0\n",
      "         319       0.17      1.00      0.30         4\n",
      "         320       0.00      0.00      0.00         1\n",
      "         322       0.00      0.00      0.00         1\n",
      "         323       0.00      0.00      0.00         2\n",
      "         325       0.00      0.00      0.00         1\n",
      "         326       0.00      0.00      0.00         2\n",
      "         328       0.00      0.00      0.00         1\n",
      "         329       0.00      0.00      0.00         1\n",
      "         330       0.00      0.00      0.00         1\n",
      "         332       0.00      0.00      0.00         1\n",
      "         334       0.00      0.00      0.00         2\n",
      "         336       0.00      0.00      0.00         1\n",
      "         340       0.00      0.00      0.00         1\n",
      "         343       0.00      0.00      0.00         1\n",
      "         345       0.00      0.00      0.00         1\n",
      "         350       0.00      0.00      0.00         1\n",
      "         351       0.00      0.00      0.00         1\n",
      "         358       0.00      0.00      0.00         1\n",
      "\n",
      "    accuracy                           0.12       182\n",
      "   macro avg       0.01      0.03      0.02       182\n",
      "weighted avg       0.05      0.12      0.06       182\n",
      "\n"
     ]
    }
   ],
   "source": [
    "LR = LogisticRegression()\n",
    "LR.fit(x_train, y_train)\n",
    "predlr = LR.predict(x_test)\n",
    "print(\"Accuracy\",accuracy_score(y_test, predlr)*100)\n",
    "print(confusion_matrix(y_test,predlr))\n",
    "print(classification_report(y_test,predlr))"
   ]
  },
  {
   "cell_type": "code",
   "execution_count": 119,
   "id": "5c2cce0b",
   "metadata": {},
   "outputs": [
    {
     "name": "stdout",
     "output_type": "stream",
     "text": [
      "Accuracy 7.142857142857142\n",
      "[[0 0 0 ... 0 0 0]\n",
      " [0 0 0 ... 0 0 0]\n",
      " [0 0 0 ... 0 0 0]\n",
      " ...\n",
      " [0 0 0 ... 0 0 0]\n",
      " [0 0 0 ... 0 0 0]\n",
      " [0 0 0 ... 1 0 0]]\n",
      "              precision    recall  f1-score   support\n",
      "\n",
      "           1       0.00      0.00      0.00         4\n",
      "           2       0.00      0.00      0.00         1\n",
      "           4       0.00      0.00      0.00         1\n",
      "           5       0.00      0.00      0.00         1\n",
      "           6       0.00      0.00      0.00         1\n",
      "           8       0.00      0.00      0.00         0\n",
      "           9       0.00      0.00      0.00         1\n",
      "          10       0.00      0.00      0.00         1\n",
      "          12       0.00      0.00      0.00         1\n",
      "          14       0.00      0.00      0.00         4\n",
      "          16       0.00      0.00      0.00         0\n",
      "          17       0.00      0.00      0.00         0\n",
      "          19       0.45      0.50      0.48        10\n",
      "          22       0.00      0.00      0.00         2\n",
      "          23       0.00      0.00      0.00         1\n",
      "          26       0.00      0.00      0.00         0\n",
      "          29       0.00      0.00      0.00         1\n",
      "          30       0.00      0.00      0.00         1\n",
      "          31       0.00      0.00      0.00         3\n",
      "          33       0.00      0.00      0.00         0\n",
      "          35       0.00      0.00      0.00         1\n",
      "          36       0.20      0.17      0.18         6\n",
      "          38       0.00      0.00      0.00         3\n",
      "          42       0.00      0.00      0.00         2\n",
      "          44       0.00      0.00      0.00         1\n",
      "          46       0.00      0.00      0.00         0\n",
      "          47       0.00      0.00      0.00         0\n",
      "          49       0.00      0.00      0.00         1\n",
      "          50       0.00      0.00      0.00         1\n",
      "          52       0.00      0.00      0.00         0\n",
      "          54       0.00      0.00      0.00         1\n",
      "          55       1.00      0.50      0.67         2\n",
      "          56       0.00      0.00      0.00         3\n",
      "          57       0.00      0.00      0.00         0\n",
      "          61       0.00      0.00      0.00         1\n",
      "          63       0.00      0.00      0.00         1\n",
      "          64       0.00      0.00      0.00         0\n",
      "          65       0.00      0.00      0.00         0\n",
      "          67       0.00      0.00      0.00         2\n",
      "          68       0.00      0.00      0.00         0\n",
      "          69       0.00      0.00      0.00         0\n",
      "          70       0.00      0.00      0.00         0\n",
      "          71       0.00      0.00      0.00         0\n",
      "          72       0.00      0.00      0.00         0\n",
      "          73       0.00      0.00      0.00         2\n",
      "          74       0.00      0.00      0.00         1\n",
      "          75       0.00      0.00      0.00         1\n",
      "          76       0.00      0.00      0.00         0\n",
      "          77       0.00      0.00      0.00         4\n",
      "          79       0.00      0.00      0.00         1\n",
      "          82       0.00      0.00      0.00         1\n",
      "          85       0.00      0.00      0.00         1\n",
      "          86       0.00      0.00      0.00         1\n",
      "          87       0.00      0.00      0.00         1\n",
      "          89       0.00      0.00      0.00         0\n",
      "          92       0.00      0.00      0.00         0\n",
      "          94       0.00      0.00      0.00         1\n",
      "          96       0.00      0.00      0.00         1\n",
      "          99       0.00      0.00      0.00         1\n",
      "         103       0.00      0.00      0.00         1\n",
      "         105       0.00      0.00      0.00         0\n",
      "         106       0.00      0.00      0.00         1\n",
      "         107       0.00      0.00      0.00         0\n",
      "         111       0.00      0.00      0.00         1\n",
      "         112       0.00      0.00      0.00         1\n",
      "         113       0.00      0.00      0.00         0\n",
      "         114       0.00      0.00      0.00         0\n",
      "         119       0.00      0.00      0.00         0\n",
      "         121       0.00      0.00      0.00         1\n",
      "         122       0.00      0.00      0.00         1\n",
      "         123       0.00      0.00      0.00         0\n",
      "         125       0.00      0.00      0.00         0\n",
      "         129       0.00      0.00      0.00         3\n",
      "         130       0.00      0.00      0.00         1\n",
      "         131       0.00      0.00      0.00         1\n",
      "         132       0.00      0.00      0.00         0\n",
      "         133       0.00      0.00      0.00         0\n",
      "         134       0.00      0.00      0.00         1\n",
      "         135       0.00      0.00      0.00         4\n",
      "         136       0.50      0.50      0.50         2\n",
      "         138       0.00      0.00      0.00         0\n",
      "         139       0.00      0.00      0.00         0\n",
      "         140       0.00      0.00      0.00         0\n",
      "         142       0.00      0.00      0.00         0\n",
      "         143       0.00      0.00      0.00         1\n",
      "         146       0.00      0.00      0.00         4\n",
      "         147       0.00      0.00      0.00         0\n",
      "         148       0.00      0.00      0.00         1\n",
      "         150       0.00      0.00      0.00         0\n",
      "         155       0.00      0.00      0.00         0\n",
      "         156       0.00      0.00      0.00         0\n",
      "         158       0.00      0.00      0.00         1\n",
      "         159       0.00      0.00      0.00         1\n",
      "         160       0.00      0.00      0.00         0\n",
      "         161       0.00      0.00      0.00         0\n",
      "         165       0.00      0.00      0.00         0\n",
      "         166       0.00      0.00      0.00         1\n",
      "         169       0.00      0.00      0.00         0\n",
      "         170       1.00      0.33      0.50         3\n",
      "         173       0.00      0.00      0.00         1\n",
      "         175       0.00      0.00      0.00         0\n",
      "         179       0.00      0.00      0.00         0\n",
      "         180       0.00      0.00      0.00         3\n",
      "         184       0.00      0.00      0.00         1\n",
      "         186       0.00      0.00      0.00         1\n",
      "         188       0.00      0.00      0.00         1\n",
      "         189       0.00      0.00      0.00         1\n",
      "         194       0.00      0.00      0.00         1\n",
      "         196       0.00      0.00      0.00         0\n",
      "         200       0.00      0.00      0.00         1\n",
      "         204       0.00      0.00      0.00         0\n",
      "         206       0.00      0.00      0.00         0\n",
      "         208       0.00      0.00      0.00         1\n",
      "         212       0.00      0.00      0.00         0\n",
      "         213       0.00      0.00      0.00         0\n",
      "         214       0.00      0.00      0.00         1\n",
      "         216       0.00      0.00      0.00         0\n",
      "         218       0.00      0.00      0.00         1\n",
      "         220       0.00      0.00      0.00         0\n",
      "         223       0.00      0.00      0.00         0\n",
      "         225       0.00      0.00      0.00         1\n",
      "         229       0.00      0.00      0.00         0\n",
      "         230       0.00      0.00      0.00         2\n",
      "         231       0.00      0.00      0.00         0\n",
      "         232       0.00      0.00      0.00         2\n",
      "         233       0.00      0.00      0.00         0\n",
      "         236       0.00      0.00      0.00         1\n",
      "         237       0.00      0.00      0.00         1\n",
      "         238       0.00      0.00      0.00         1\n",
      "         240       0.50      0.50      0.50         2\n",
      "         241       0.00      0.00      0.00         1\n",
      "         244       0.00      0.00      0.00         0\n",
      "         248       0.00      0.00      0.00         1\n",
      "         250       0.00      0.00      0.00         0\n",
      "         253       0.00      0.00      0.00         1\n",
      "         254       0.00      0.00      0.00         1\n",
      "         259       0.00      0.00      0.00         0\n",
      "         261       0.00      0.00      0.00         2\n",
      "         263       0.00      0.00      0.00         0\n",
      "         265       0.00      0.00      0.00         0\n",
      "         266       0.00      0.00      0.00         1\n",
      "         267       0.00      0.00      0.00         0\n",
      "         268       0.00      0.00      0.00         0\n",
      "         269       0.00      0.00      0.00         0\n",
      "         272       0.20      0.33      0.25         3\n",
      "         273       0.00      0.00      0.00         1\n",
      "         275       0.00      0.00      0.00         1\n",
      "         276       0.00      0.00      0.00         1\n",
      "         278       0.00      0.00      0.00         1\n",
      "         279       0.00      0.00      0.00         6\n",
      "         281       0.00      0.00      0.00         1\n",
      "         291       0.00      0.00      0.00         1\n",
      "         292       0.00      0.00      0.00         2\n",
      "         294       0.00      0.00      0.00         0\n",
      "         295       0.00      0.00      0.00         0\n",
      "         297       0.00      0.00      0.00         1\n",
      "         298       0.00      0.00      0.00         0\n",
      "         303       0.00      0.00      0.00         0\n",
      "         307       0.00      0.00      0.00         1\n",
      "         308       0.00      0.00      0.00         3\n",
      "         310       0.00      0.00      0.00         1\n",
      "         311       0.00      0.00      0.00         1\n",
      "         312       0.00      0.00      0.00         0\n",
      "         317       0.00      0.00      0.00         0\n",
      "         319       0.25      0.50      0.33         4\n",
      "         320       0.00      0.00      0.00         1\n",
      "         322       0.00      0.00      0.00         1\n",
      "         323       0.00      0.00      0.00         2\n",
      "         325       0.00      0.00      0.00         1\n",
      "         326       0.00      0.00      0.00         2\n",
      "         328       0.00      0.00      0.00         1\n",
      "         329       0.00      0.00      0.00         1\n",
      "         330       0.00      0.00      0.00         1\n",
      "         332       0.00      0.00      0.00         1\n",
      "         333       0.00      0.00      0.00         0\n",
      "         334       0.00      0.00      0.00         2\n",
      "         335       0.00      0.00      0.00         0\n",
      "         336       0.00      0.00      0.00         1\n",
      "         337       0.00      0.00      0.00         0\n",
      "         340       0.00      0.00      0.00         1\n",
      "         342       0.00      0.00      0.00         0\n",
      "         343       0.00      0.00      0.00         1\n",
      "         345       0.00      0.00      0.00         1\n",
      "         346       0.00      0.00      0.00         0\n",
      "         349       0.00      0.00      0.00         0\n",
      "         350       0.00      0.00      0.00         1\n",
      "         351       0.00      0.00      0.00         1\n",
      "         354       0.00      0.00      0.00         0\n",
      "         355       0.00      0.00      0.00         0\n",
      "         358       0.00      0.00      0.00         1\n",
      "\n",
      "    accuracy                           0.07       182\n",
      "   macro avg       0.02      0.02      0.02       182\n",
      "weighted avg       0.08      0.07      0.07       182\n",
      "\n"
     ]
    }
   ],
   "source": [
    "dt = DecisionTreeClassifier()\n",
    "dt.fit(x_train, y_train)\n",
    "preddt = dt.predict(x_test)\n",
    "print(\"Accuracy\",accuracy_score(y_test, preddt)*100)\n",
    "print(confusion_matrix(y_test,preddt))\n",
    "print(classification_report(y_test,preddt))"
   ]
  },
  {
   "cell_type": "code",
   "execution_count": 120,
   "id": "ed9ec679",
   "metadata": {},
   "outputs": [
    {
     "name": "stdout",
     "output_type": "stream",
     "text": [
      "Accuracy 8.241758241758241\n",
      "[[0 0 0 ... 0 0 0]\n",
      " [0 1 0 ... 0 0 0]\n",
      " [0 0 0 ... 0 0 0]\n",
      " ...\n",
      " [0 0 0 ... 0 0 0]\n",
      " [0 0 0 ... 0 0 1]\n",
      " [0 0 0 ... 0 0 0]]\n",
      "              precision    recall  f1-score   support\n",
      "\n",
      "           1       0.00      0.00      0.00         4\n",
      "           2       1.00      1.00      1.00         1\n",
      "           4       0.00      0.00      0.00         1\n",
      "           5       0.00      0.00      0.00         1\n",
      "           6       0.00      0.00      0.00         1\n",
      "           8       0.00      0.00      0.00         0\n",
      "           9       0.00      0.00      0.00         1\n",
      "          10       0.00      0.00      0.00         1\n",
      "          12       0.00      0.00      0.00         1\n",
      "          14       0.00      0.00      0.00         4\n",
      "          17       0.00      0.00      0.00         0\n",
      "          19       0.42      0.50      0.45        10\n",
      "          22       0.00      0.00      0.00         2\n",
      "          23       0.00      0.00      0.00         1\n",
      "          25       0.00      0.00      0.00         0\n",
      "          26       0.00      0.00      0.00         0\n",
      "          29       0.00      0.00      0.00         1\n",
      "          30       0.00      0.00      0.00         1\n",
      "          31       0.00      0.00      0.00         3\n",
      "          33       0.00      0.00      0.00         0\n",
      "          35       0.00      0.00      0.00         1\n",
      "          36       0.00      0.00      0.00         6\n",
      "          38       0.00      0.00      0.00         3\n",
      "          40       0.00      0.00      0.00         0\n",
      "          42       0.00      0.00      0.00         2\n",
      "          44       0.00      0.00      0.00         1\n",
      "          47       0.00      0.00      0.00         0\n",
      "          49       0.00      0.00      0.00         1\n",
      "          50       0.00      0.00      0.00         1\n",
      "          52       0.00      0.00      0.00         0\n",
      "          54       0.00      0.00      0.00         1\n",
      "          55       0.25      0.50      0.33         2\n",
      "          56       0.00      0.00      0.00         3\n",
      "          57       0.00      0.00      0.00         0\n",
      "          61       0.00      0.00      0.00         1\n",
      "          63       0.00      0.00      0.00         1\n",
      "          64       0.00      0.00      0.00         0\n",
      "          67       0.00      0.00      0.00         2\n",
      "          68       0.00      0.00      0.00         0\n",
      "          69       0.00      0.00      0.00         0\n",
      "          73       0.00      0.00      0.00         2\n",
      "          74       0.00      0.00      0.00         1\n",
      "          75       0.00      0.00      0.00         1\n",
      "          76       0.00      0.00      0.00         0\n",
      "          77       0.00      0.00      0.00         4\n",
      "          79       0.00      0.00      0.00         1\n",
      "          81       0.00      0.00      0.00         0\n",
      "          82       0.00      0.00      0.00         1\n",
      "          85       0.00      0.00      0.00         1\n",
      "          86       0.00      0.00      0.00         1\n",
      "          87       0.00      0.00      0.00         1\n",
      "          88       0.00      0.00      0.00         0\n",
      "          89       0.00      0.00      0.00         0\n",
      "          94       0.00      0.00      0.00         1\n",
      "          96       0.00      0.00      0.00         1\n",
      "          99       0.00      0.00      0.00         1\n",
      "         102       0.00      0.00      0.00         0\n",
      "         103       0.00      0.00      0.00         1\n",
      "         105       0.00      0.00      0.00         0\n",
      "         106       0.00      0.00      0.00         1\n",
      "         107       0.00      0.00      0.00         0\n",
      "         110       0.00      0.00      0.00         0\n",
      "         111       0.00      0.00      0.00         1\n",
      "         112       0.00      0.00      0.00         1\n",
      "         114       0.00      0.00      0.00         0\n",
      "         121       0.00      0.00      0.00         1\n",
      "         122       0.00      0.00      0.00         1\n",
      "         125       0.00      0.00      0.00         0\n",
      "         129       0.00      0.00      0.00         3\n",
      "         130       0.00      0.00      0.00         1\n",
      "         131       0.00      0.00      0.00         1\n",
      "         132       0.00      0.00      0.00         0\n",
      "         133       0.00      0.00      0.00         0\n",
      "         134       0.00      0.00      0.00         1\n",
      "         135       0.00      0.00      0.00         4\n",
      "         136       1.00      0.50      0.67         2\n",
      "         143       0.00      0.00      0.00         1\n",
      "         146       0.00      0.00      0.00         4\n",
      "         147       0.00      0.00      0.00         0\n",
      "         148       0.00      0.00      0.00         1\n",
      "         150       0.00      0.00      0.00         0\n",
      "         152       0.00      0.00      0.00         0\n",
      "         156       0.00      0.00      0.00         0\n",
      "         158       0.00      0.00      0.00         1\n",
      "         159       0.00      0.00      0.00         1\n",
      "         160       0.00      0.00      0.00         0\n",
      "         163       0.00      0.00      0.00         0\n",
      "         166       0.00      0.00      0.00         1\n",
      "         167       0.00      0.00      0.00         0\n",
      "         170       1.00      0.33      0.50         3\n",
      "         172       0.00      0.00      0.00         0\n",
      "         173       0.00      0.00      0.00         1\n",
      "         176       0.00      0.00      0.00         0\n",
      "         180       0.00      0.00      0.00         3\n",
      "         184       0.00      0.00      0.00         1\n",
      "         185       0.00      0.00      0.00         0\n",
      "         186       0.00      0.00      0.00         1\n",
      "         188       0.00      0.00      0.00         1\n",
      "         189       0.00      0.00      0.00         1\n",
      "         194       1.00      1.00      1.00         1\n",
      "         195       0.00      0.00      0.00         0\n",
      "         200       0.00      0.00      0.00         1\n",
      "         203       0.00      0.00      0.00         0\n",
      "         207       0.00      0.00      0.00         0\n",
      "         208       0.00      0.00      0.00         1\n",
      "         213       0.00      0.00      0.00         0\n",
      "         214       0.00      0.00      0.00         1\n",
      "         218       0.00      0.00      0.00         1\n",
      "         220       0.00      0.00      0.00         0\n",
      "         223       0.00      0.00      0.00         0\n",
      "         225       0.00      0.00      0.00         1\n",
      "         230       0.00      0.00      0.00         2\n",
      "         232       0.00      0.00      0.00         2\n",
      "         233       0.00      0.00      0.00         0\n",
      "         236       0.00      0.00      0.00         1\n",
      "         237       0.00      0.00      0.00         1\n",
      "         238       0.00      0.00      0.00         1\n",
      "         240       0.00      0.00      0.00         2\n",
      "         241       0.00      0.00      0.00         1\n",
      "         242       0.00      0.00      0.00         0\n",
      "         248       0.00      0.00      0.00         1\n",
      "         250       0.00      0.00      0.00         0\n",
      "         253       0.00      0.00      0.00         1\n",
      "         254       0.00      0.00      0.00         1\n",
      "         257       0.00      0.00      0.00         0\n",
      "         261       0.00      0.00      0.00         2\n",
      "         265       0.00      0.00      0.00         0\n",
      "         266       0.00      0.00      0.00         1\n",
      "         267       0.00      0.00      0.00         0\n",
      "         268       0.00      0.00      0.00         0\n",
      "         271       0.00      0.00      0.00         0\n",
      "         272       0.33      0.67      0.44         3\n",
      "         273       0.00      0.00      0.00         1\n",
      "         275       0.00      0.00      0.00         1\n",
      "         276       0.00      0.00      0.00         1\n",
      "         278       0.00      0.00      0.00         1\n",
      "         279       0.20      0.17      0.18         6\n",
      "         281       0.00      0.00      0.00         1\n",
      "         282       0.00      0.00      0.00         0\n",
      "         291       0.00      0.00      0.00         1\n",
      "         292       0.00      0.00      0.00         2\n",
      "         294       0.00      0.00      0.00         0\n",
      "         295       0.00      0.00      0.00         0\n",
      "         297       0.00      0.00      0.00         1\n",
      "         301       0.00      0.00      0.00         0\n",
      "         302       0.00      0.00      0.00         0\n",
      "         305       0.00      0.00      0.00         0\n",
      "         307       0.00      0.00      0.00         1\n",
      "         308       0.00      0.00      0.00         3\n",
      "         310       0.00      0.00      0.00         1\n",
      "         311       0.00      0.00      0.00         1\n",
      "         312       0.00      0.00      0.00         0\n",
      "         319       0.17      0.50      0.25         4\n",
      "         320       0.00      0.00      0.00         1\n",
      "         322       0.00      0.00      0.00         1\n",
      "         323       0.00      0.00      0.00         2\n",
      "         325       0.00      0.00      0.00         1\n",
      "         326       0.00      0.00      0.00         2\n",
      "         328       0.00      0.00      0.00         1\n",
      "         329       0.00      0.00      0.00         1\n",
      "         330       0.00      0.00      0.00         1\n",
      "         332       0.00      0.00      0.00         1\n",
      "         333       0.00      0.00      0.00         0\n",
      "         334       0.00      0.00      0.00         2\n",
      "         336       0.00      0.00      0.00         1\n",
      "         340       0.00      0.00      0.00         1\n",
      "         343       0.00      0.00      0.00         1\n",
      "         344       0.00      0.00      0.00         0\n",
      "         345       0.00      0.00      0.00         1\n",
      "         346       0.00      0.00      0.00         0\n",
      "         349       0.00      0.00      0.00         0\n",
      "         350       0.00      0.00      0.00         1\n",
      "         351       0.00      0.00      0.00         1\n",
      "         355       0.00      0.00      0.00         0\n",
      "         358       0.00      0.00      0.00         1\n",
      "         359       0.00      0.00      0.00         0\n",
      "\n",
      "    accuracy                           0.08       182\n",
      "   macro avg       0.03      0.03      0.03       182\n",
      "weighted avg       0.08      0.08      0.07       182\n",
      "\n"
     ]
    }
   ],
   "source": [
    "rf = RandomForestClassifier()\n",
    "rf.fit(x_train, y_train)\n",
    "predrf = rf.predict(x_test)\n",
    "print(\"Accuracy\",accuracy_score(y_test, predrf)*100)\n",
    "print(confusion_matrix(y_test,predrf))\n",
    "print(classification_report(y_test,predrf))"
   ]
  },
  {
   "cell_type": "code",
   "execution_count": 121,
   "id": "b66edba1",
   "metadata": {},
   "outputs": [
    {
     "name": "stdout",
     "output_type": "stream",
     "text": [
      "Accuracy 10.43956043956044\n",
      "[[0 0 0 ... 0 0 0]\n",
      " [0 0 0 ... 0 0 0]\n",
      " [0 0 0 ... 0 0 0]\n",
      " ...\n",
      " [0 0 0 ... 0 0 0]\n",
      " [0 0 0 ... 0 0 0]\n",
      " [0 0 0 ... 0 0 0]]\n",
      "              precision    recall  f1-score   support\n",
      "\n",
      "           1       0.00      0.00      0.00         4\n",
      "           2       0.00      0.00      0.00         1\n",
      "           4       0.00      0.00      0.00         1\n",
      "           5       0.00      0.00      0.00         1\n",
      "           6       0.00      0.00      0.00         1\n",
      "           9       0.00      0.00      0.00         1\n",
      "          10       0.00      0.00      0.00         1\n",
      "          12       0.00      0.00      0.00         1\n",
      "          14       0.00      0.00      0.00         4\n",
      "          19       0.29      1.00      0.45        10\n",
      "          22       0.00      0.00      0.00         2\n",
      "          23       0.00      0.00      0.00         1\n",
      "          29       0.00      0.00      0.00         1\n",
      "          30       0.00      0.00      0.00         1\n",
      "          31       0.00      0.00      0.00         3\n",
      "          35       0.00      0.00      0.00         1\n",
      "          36       0.20      0.50      0.29         6\n",
      "          38       0.00      0.00      0.00         3\n",
      "          42       0.00      0.00      0.00         2\n",
      "          44       0.00      0.00      0.00         1\n",
      "          49       0.00      0.00      0.00         1\n",
      "          50       0.00      0.00      0.00         1\n",
      "          52       0.00      0.00      0.00         0\n",
      "          54       0.00      0.00      0.00         1\n",
      "          55       0.00      0.00      0.00         2\n",
      "          56       0.00      0.00      0.00         3\n",
      "          61       0.00      0.00      0.00         1\n",
      "          63       0.00      0.00      0.00         1\n",
      "          67       0.00      0.00      0.00         2\n",
      "          73       0.00      0.00      0.00         2\n",
      "          74       0.00      0.00      0.00         1\n",
      "          75       0.00      0.00      0.00         1\n",
      "          77       0.00      0.00      0.00         4\n",
      "          79       0.00      0.00      0.00         1\n",
      "          82       0.00      0.00      0.00         1\n",
      "          85       0.00      0.00      0.00         1\n",
      "          86       0.00      0.00      0.00         1\n",
      "          87       0.00      0.00      0.00         1\n",
      "          94       0.00      0.00      0.00         1\n",
      "          96       0.00      0.00      0.00         1\n",
      "          99       0.00      0.00      0.00         1\n",
      "         103       0.00      0.00      0.00         1\n",
      "         106       0.00      0.00      0.00         1\n",
      "         111       0.00      0.00      0.00         1\n",
      "         112       0.00      0.00      0.00         1\n",
      "         114       0.00      0.00      0.00         0\n",
      "         121       0.00      0.00      0.00         1\n",
      "         122       0.00      0.00      0.00         1\n",
      "         129       0.00      0.00      0.00         3\n",
      "         130       0.00      0.00      0.00         1\n",
      "         131       0.00      0.00      0.00         1\n",
      "         134       0.00      0.00      0.00         1\n",
      "         135       0.00      0.00      0.00         4\n",
      "         136       0.00      0.00      0.00         2\n",
      "         143       0.00      0.00      0.00         1\n",
      "         146       0.33      0.25      0.29         4\n",
      "         148       0.00      0.00      0.00         1\n",
      "         158       0.00      0.00      0.00         1\n",
      "         159       0.00      0.00      0.00         1\n",
      "         166       0.00      0.00      0.00         1\n",
      "         170       0.00      0.00      0.00         3\n",
      "         173       0.00      0.00      0.00         1\n",
      "         180       0.00      0.00      0.00         3\n",
      "         184       0.00      0.00      0.00         1\n",
      "         186       0.00      0.00      0.00         1\n",
      "         188       0.00      0.00      0.00         1\n",
      "         189       0.00      0.00      0.00         1\n",
      "         194       0.00      0.00      0.00         1\n",
      "         200       0.00      0.00      0.00         1\n",
      "         208       0.00      0.00      0.00         1\n",
      "         214       0.00      0.00      0.00         1\n",
      "         218       0.00      0.00      0.00         1\n",
      "         225       0.00      0.00      0.00         1\n",
      "         230       0.00      0.00      0.00         2\n",
      "         232       0.00      0.00      0.00         2\n",
      "         236       0.00      0.00      0.00         1\n",
      "         237       0.00      0.00      0.00         1\n",
      "         238       0.00      0.00      0.00         1\n",
      "         240       0.14      0.50      0.22         2\n",
      "         241       0.00      0.00      0.00         1\n",
      "         248       0.00      0.00      0.00         1\n",
      "         253       0.00      0.00      0.00         1\n",
      "         254       0.00      0.00      0.00         1\n",
      "         261       0.00      0.00      0.00         2\n",
      "         266       0.00      0.00      0.00         1\n",
      "         272       0.00      0.00      0.00         3\n",
      "         273       0.00      0.00      0.00         1\n",
      "         275       0.00      0.00      0.00         1\n",
      "         276       0.00      0.00      0.00         1\n",
      "         278       0.00      0.00      0.00         1\n",
      "         279       0.00      0.00      0.00         6\n",
      "         281       0.00      0.00      0.00         1\n",
      "         291       0.00      0.00      0.00         1\n",
      "         292       0.00      0.00      0.00         2\n",
      "         297       0.00      0.00      0.00         1\n",
      "         307       0.00      0.00      0.00         1\n",
      "         308       0.00      0.00      0.00         3\n",
      "         310       0.00      0.00      0.00         1\n",
      "         311       0.00      0.00      0.00         1\n",
      "         319       0.09      1.00      0.16         4\n",
      "         320       0.00      0.00      0.00         1\n",
      "         322       0.00      0.00      0.00         1\n",
      "         323       0.00      0.00      0.00         2\n",
      "         325       0.00      0.00      0.00         1\n",
      "         326       0.00      0.00      0.00         2\n",
      "         328       0.00      0.00      0.00         1\n",
      "         329       0.00      0.00      0.00         1\n",
      "         330       0.00      0.00      0.00         1\n",
      "         332       0.00      0.00      0.00         1\n",
      "         334       0.00      0.00      0.00         2\n",
      "         336       0.00      0.00      0.00         1\n",
      "         340       0.00      0.00      0.00         1\n",
      "         343       0.00      0.00      0.00         1\n",
      "         345       0.00      0.00      0.00         1\n",
      "         350       0.00      0.00      0.00         1\n",
      "         351       0.00      0.00      0.00         1\n",
      "         358       0.00      0.00      0.00         1\n",
      "\n",
      "    accuracy                           0.10       182\n",
      "   macro avg       0.01      0.03      0.01       182\n",
      "weighted avg       0.03      0.10      0.05       182\n",
      "\n"
     ]
    }
   ],
   "source": [
    "svc = SVC()\n",
    "svc.fit(x_train,y_train)\n",
    "\n",
    "ad_pred = svc.predict(x_test)\n",
    "print(\"Accuracy\",accuracy_score(y_test, ad_pred)*100)\n",
    "print(confusion_matrix(y_test,ad_pred))\n",
    "print(classification_report(y_test,ad_pred))"
   ]
  },
  {
   "cell_type": "code",
   "execution_count": 122,
   "id": "fb323237",
   "metadata": {},
   "outputs": [
    {
     "name": "stdout",
     "output_type": "stream",
     "text": [
      "cross validation score of Logistic Regression model : 0.07609738327970372\n"
     ]
    }
   ],
   "source": [
    "scr=cross_val_score(LR, x, y, cv=5)\n",
    "print(\"cross validation score of Logistic Regression model :\",scr.mean())"
   ]
  },
  {
   "cell_type": "code",
   "execution_count": 123,
   "id": "70265f09",
   "metadata": {},
   "outputs": [
    {
     "name": "stdout",
     "output_type": "stream",
     "text": [
      "cross validation score of Random Forest model : 0.07827090037034787\n"
     ]
    }
   ],
   "source": [
    "scr=cross_val_score(rf, x, y, cv=5)\n",
    "print(\"cross validation score of Random Forest model :\",scr.mean())"
   ]
  },
  {
   "cell_type": "code",
   "execution_count": 124,
   "id": "bd0f2245",
   "metadata": {},
   "outputs": [
    {
     "name": "stdout",
     "output_type": "stream",
     "text": [
      "cross validation score of SVC model : 0.08600570700018213\n"
     ]
    }
   ],
   "source": [
    "scr=cross_val_score(svc, x, y, cv=5)\n",
    "print(\"cross validation score of SVC model :\",scr.mean())"
   ]
  },
  {
   "cell_type": "code",
   "execution_count": 125,
   "id": "437c9d70",
   "metadata": {},
   "outputs": [],
   "source": [
    "parameters = {'max_features': ['auto', 'sqrt', 'log2'],\n",
    "             'max_depth' : [4,5,6,7,8],\n",
    "             'criterion' :['gini' , 'entropy']}"
   ]
  },
  {
   "cell_type": "code",
   "execution_count": 126,
   "id": "563f6740",
   "metadata": {},
   "outputs": [
    {
     "data": {
      "text/plain": [
       "{'criterion': 'entropy', 'max_depth': 7, 'max_features': 'sqrt'}"
      ]
     },
     "execution_count": 126,
     "metadata": {},
     "output_type": "execute_result"
    }
   ],
   "source": [
    "GCV=GridSearchCV(RandomForestClassifier(),parameters,cv=5,scoring=\"accuracy\")\n",
    "GCV.fit(x_train,y_train)\n",
    "GCV.best_params_"
   ]
  },
  {
   "cell_type": "code",
   "execution_count": 127,
   "id": "3ad51f07",
   "metadata": {},
   "outputs": [
    {
     "name": "stdout",
     "output_type": "stream",
     "text": [
      "7.142857142857142\n"
     ]
    }
   ],
   "source": [
    "Final_mod=DecisionTreeClassifier(criterion='entropy',max_depth=39, max_features='log2')\n",
    "Final_mod.fit(x_train,y_train)\n",
    "pred=Final_mod.predict(x_test)\n",
    "acc=accuracy_score(y_test, pred)\n",
    "\n",
    "print(acc*100)"
   ]
  },
  {
   "cell_type": "code",
   "execution_count": 128,
   "id": "f38b4682",
   "metadata": {},
   "outputs": [
    {
     "data": {
      "text/plain": [
       "0.12637362637362637"
      ]
     },
     "execution_count": 128,
     "metadata": {},
     "output_type": "execute_result"
    }
   ],
   "source": [
    "GCV_pred=GCV.best_estimator_.predict(x_test)\n",
    "accuracy_score(y_test,GCV_pred)"
   ]
  },
  {
   "cell_type": "code",
   "execution_count": 152,
   "id": "d1c75080",
   "metadata": {},
   "outputs": [
    {
     "data": {
      "text/plain": [
       "['globalfuel.pkl']"
      ]
     },
     "execution_count": 152,
     "metadata": {},
     "output_type": "execute_result"
    }
   ],
   "source": [
    "import joblib \n",
    "joblib.dump(GCV.best_estimator_,\"globalfuel.pkl\")"
   ]
  },
  {
   "cell_type": "code",
   "execution_count": 2,
   "id": "0c587ea7",
   "metadata": {},
   "outputs": [
    {
     "ename": "NameError",
     "evalue": "name 'train_test_split' is not defined",
     "output_type": "error",
     "traceback": [
      "\u001b[1;31m---------------------------------------------------------------------------\u001b[0m",
      "\u001b[1;31mNameError\u001b[0m                                 Traceback (most recent call last)",
      "\u001b[1;32m<ipython-input-2-58b174721f8f>\u001b[0m in \u001b[0;36m<module>\u001b[1;34m\u001b[0m\n\u001b[0;32m      7\u001b[0m \u001b[1;33m\u001b[0m\u001b[0m\n\u001b[0;32m      8\u001b[0m \u001b[1;31m# split into train/test sets\u001b[0m\u001b[1;33m\u001b[0m\u001b[1;33m\u001b[0m\u001b[1;33m\u001b[0m\u001b[0m\n\u001b[1;32m----> 9\u001b[1;33m \u001b[0mX_train\u001b[0m\u001b[1;33m,\u001b[0m \u001b[0mX_test\u001b[0m\u001b[1;33m,\u001b[0m \u001b[0my_train\u001b[0m\u001b[1;33m,\u001b[0m \u001b[0my_test\u001b[0m \u001b[1;33m=\u001b[0m \u001b[0mtrain_test_split\u001b[0m\u001b[1;33m(\u001b[0m\u001b[0mX\u001b[0m\u001b[1;33m,\u001b[0m \u001b[0my\u001b[0m\u001b[1;33m,\u001b[0m \u001b[0mtest_size\u001b[0m\u001b[1;33m=\u001b[0m\u001b[1;36m0.4\u001b[0m\u001b[1;33m,\u001b[0m \u001b[0mrandom_state\u001b[0m\u001b[1;33m=\u001b[0m\u001b[1;36m42\u001b[0m\u001b[1;33m)\u001b[0m\u001b[1;33m\u001b[0m\u001b[1;33m\u001b[0m\u001b[0m\n\u001b[0m\u001b[0;32m     10\u001b[0m \u001b[1;33m\u001b[0m\u001b[0m\n\u001b[0;32m     11\u001b[0m \u001b[1;31m# fit model\u001b[0m\u001b[1;33m\u001b[0m\u001b[1;33m\u001b[0m\u001b[1;33m\u001b[0m\u001b[0m\n",
      "\u001b[1;31mNameError\u001b[0m: name 'train_test_split' is not defined"
     ]
    }
   ],
   "source": [
    "from sklearn.multiclass import OneVsRestClassifier\n",
    "from sklearn.metrics import roc_curve\n",
    "from sklearn.datasets import make_classification\n",
    "\n",
    "# generate 2 class dataset\n",
    "X, y = make_classification(n_samples=1000, n_classes=3, n_features=20, n_informative=3, random_state=42)\n",
    "\n",
    "# split into train/test sets\n",
    "X_train, X_test, y_train, y_test = train_test_split(X, y, test_size=0.4, random_state=42)\n",
    "\n",
    "# fit model\n",
    "clf = OneVsRestClassifier(LogisticRegression())\n",
    "clf.fit(X_train, y_train)\n",
    "pred = clf.predict(X_test)\n",
    "pred_prob = clf.predict_proba(X_test)\n",
    "\n",
    "# roc curve for classes\n",
    "fpr = {}\n",
    "tpr = {}\n",
    "thresh ={}\n",
    "\n",
    "n_class = 3\n",
    "\n",
    "for i in range(n_class):    \n",
    "    fpr[i], tpr[i], thresh[i] = roc_curve(y_test, pred_prob[:,i], pos_label=i)\n",
    "    \n",
    "# plotting    \n",
    "plt.plot(fpr[0], tpr[0], linestyle='--',color='orange', label='Class 0 vs Rest')\n",
    "plt.plot(fpr[1], tpr[1], linestyle='--',color='green', label='Class 1 vs Rest')\n",
    "plt.plot(fpr[2], tpr[2], linestyle='--',color='blue', label='Class 2 vs Rest')\n",
    "plt.title('Multiclass ROC curve')\n",
    "plt.xlabel('False Positive Rate')\n",
    "plt.ylabel('True Positive rate')\n",
    "plt.legend(loc='best')\n",
    "plt.savefig('Multiclass ROC',dpi=300);  "
   ]
  },
  {
   "cell_type": "code",
   "execution_count": null,
   "id": "9984ffa8",
   "metadata": {},
   "outputs": [],
   "source": []
  },
  {
   "cell_type": "code",
   "execution_count": null,
   "id": "4c4880d1",
   "metadata": {},
   "outputs": [],
   "source": []
  },
  {
   "cell_type": "code",
   "execution_count": null,
   "id": "1db77ba1",
   "metadata": {},
   "outputs": [],
   "source": []
  },
  {
   "cell_type": "code",
   "execution_count": null,
   "id": "11893610",
   "metadata": {},
   "outputs": [],
   "source": []
  },
  {
   "cell_type": "code",
   "execution_count": null,
   "id": "0beba997",
   "metadata": {},
   "outputs": [],
   "source": []
  },
  {
   "cell_type": "code",
   "execution_count": null,
   "id": "647f733f",
   "metadata": {},
   "outputs": [],
   "source": []
  },
  {
   "cell_type": "code",
   "execution_count": null,
   "id": "25dea5bc",
   "metadata": {},
   "outputs": [],
   "source": []
  },
  {
   "cell_type": "code",
   "execution_count": null,
   "id": "2f282dc5",
   "metadata": {},
   "outputs": [],
   "source": []
  },
  {
   "cell_type": "code",
   "execution_count": null,
   "id": "5647291f",
   "metadata": {},
   "outputs": [],
   "source": []
  },
  {
   "cell_type": "code",
   "execution_count": null,
   "id": "1f8b0505",
   "metadata": {},
   "outputs": [],
   "source": []
  },
  {
   "cell_type": "code",
   "execution_count": null,
   "id": "21700a8f",
   "metadata": {},
   "outputs": [],
   "source": []
  },
  {
   "cell_type": "code",
   "execution_count": null,
   "id": "1be157bb",
   "metadata": {},
   "outputs": [],
   "source": []
  },
  {
   "cell_type": "code",
   "execution_count": null,
   "id": "5946a5d9",
   "metadata": {},
   "outputs": [],
   "source": []
  },
  {
   "cell_type": "code",
   "execution_count": null,
   "id": "9c88f982",
   "metadata": {},
   "outputs": [],
   "source": []
  },
  {
   "cell_type": "code",
   "execution_count": null,
   "id": "6e1175b7",
   "metadata": {},
   "outputs": [],
   "source": []
  },
  {
   "cell_type": "code",
   "execution_count": null,
   "id": "f880158f",
   "metadata": {},
   "outputs": [],
   "source": []
  },
  {
   "cell_type": "code",
   "execution_count": null,
   "id": "54af200a",
   "metadata": {},
   "outputs": [],
   "source": []
  },
  {
   "cell_type": "code",
   "execution_count": null,
   "id": "250b2a5e",
   "metadata": {},
   "outputs": [],
   "source": []
  },
  {
   "cell_type": "code",
   "execution_count": null,
   "id": "b30efc97",
   "metadata": {},
   "outputs": [],
   "source": []
  },
  {
   "cell_type": "code",
   "execution_count": null,
   "id": "ade9a2ca",
   "metadata": {},
   "outputs": [],
   "source": []
  },
  {
   "cell_type": "code",
   "execution_count": null,
   "id": "93e1da0f",
   "metadata": {},
   "outputs": [],
   "source": []
  },
  {
   "cell_type": "code",
   "execution_count": null,
   "id": "0273800a",
   "metadata": {},
   "outputs": [],
   "source": []
  },
  {
   "cell_type": "code",
   "execution_count": null,
   "id": "61d08625",
   "metadata": {},
   "outputs": [],
   "source": []
  }
 ],
 "metadata": {
  "kernelspec": {
   "display_name": "Python 3",
   "language": "python",
   "name": "python3"
  },
  "language_info": {
   "codemirror_mode": {
    "name": "ipython",
    "version": 3
   },
   "file_extension": ".py",
   "mimetype": "text/x-python",
   "name": "python",
   "nbconvert_exporter": "python",
   "pygments_lexer": "ipython3",
   "version": "3.8.8"
  }
 },
 "nbformat": 4,
 "nbformat_minor": 5
}
